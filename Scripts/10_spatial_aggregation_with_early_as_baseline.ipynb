{
 "cells": [
  {
   "cell_type": "code",
   "execution_count": 2,
   "metadata": {},
   "outputs": [
    {
     "name": "stdout",
     "output_type": "stream",
     "text": [
      "Intel MKL WARNING: Support of Intel(R) Streaming SIMD Extensions 4.2 (Intel(R) SSE4.2) enabled only processors has been deprecated. Intel oneAPI Math Kernel Library 2025.0 will require Intel(R) Advanced Vector Extensions (Intel(R) AVX) instructions.\n",
      "Intel MKL WARNING: Support of Intel(R) Streaming SIMD Extensions 4.2 (Intel(R) SSE4.2) enabled only processors has been deprecated. Intel oneAPI Math Kernel Library 2025.0 will require Intel(R) Advanced Vector Extensions (Intel(R) AVX) instructions.\n"
     ]
    }
   ],
   "source": [
    "import pandas as pd\n",
    "import geopandas as gpd\n",
    "from shapely.geometry import Point"
   ]
  },
  {
   "cell_type": "code",
   "execution_count": 3,
   "metadata": {},
   "outputs": [],
   "source": [
    "# Load the CSV file\n",
    "csv_file = '/Users/sidchaudhary/Documents/GitHub/Hydro-Seesaw/Results/lat_lon_flag_counts_mid_end_season_with_early_baseline.csv'\n",
    "df = pd.read_csv(csv_file)\n",
    "\n",
    "# Convert lat/lon to geometry points\n",
    "df['geometry'] = df.apply(lambda row: Point(row['long'], row['lat']), axis=1)\n",
    "gdf_points = gpd.GeoDataFrame(df, geometry='geometry', crs='EPSG:4326')  # Assuming lat/lon are in EPSG:4326\n",
    "\n",
    "\n"
   ]
  },
  {
   "cell_type": "code",
   "execution_count": null,
   "metadata": {},
   "outputs": [
    {
     "name": "stderr",
     "output_type": "stream",
     "text": [
      "/Users/sidchaudhary/opt/anaconda3/envs/streamflow/lib/python3.9/site-packages/IPython/core/interactiveshell.py:3445: FutureWarning: The `op` parameter is deprecated and will be removed in a future release. Please use the `predicate` parameter instead.\n",
      "  if await self.run_code(code, result, async_=asy):\n"
     ]
    }
   ],
   "source": [
    "# Load the shapefile\n",
    "shapefile = '/Users/sidchaudhary/Documents/GitHub/Hydro-Seesaw/data/IPCC-WGI-reference-regions-v4_shapefile/IPCC-WGI-reference-regions-v4.shp'\n",
    "gdf_polygons = gpd.read_file(shapefile)\n",
    "\n",
    "# Reproject points to match the shapefile CRS if necessary\n",
    "if gdf_points.crs != gdf_polygons.crs:\n",
    "    gdf_points = gdf_points.to_crs(gdf_polygons.crs)\n",
    "\n",
    "# Spatial join to find which points fall inside which polygon\n",
    "joined_gdf = gpd.sjoin(gdf_points, gdf_polygons, how='inner', op='within')\n",
    "\n",
    "# Group by polygon, scenario, time_period, and season, and calculate mean values for the flag columns\n",
    "flag_columns = ['p1_flag', 'p5_flag', 'p10_flag', 'p90_flag', 'p95_flag', 'p99_flag']\n",
    "grouped = joined_gdf.groupby(['index_right', 'scenario', 'time_period', 'season'])[flag_columns].mean().reset_index()\n",
    "\n",
    "# Round the values to 2 decimal places\n",
    "grouped[flag_columns] = grouped[flag_columns].round(2)\n",
    "\n",
    "# Merge back with polygon information\n",
    "grouped_with_polygons = pd.merge(grouped, gdf_polygons, left_on='index_right', right_index=True)\n",
    "\n",
    "# Save output as separate CSVs for each combination of time_period, scenario, and season\n",
    "for time_period in grouped['time_period'].unique():\n",
    "    for scenario in grouped['scenario'].unique():\n",
    "        for season in grouped['season'].unique():\n",
    "            subset = grouped_with_polygons[(grouped_with_polygons['time_period'] == time_period) & \n",
    "                                           (grouped_with_polygons['scenario'] == scenario) & \n",
    "                                           (grouped_with_polygons['season'] == season)]\n",
    "            # Save each combination as a separate CSV\n",
    "            #subset.to_csv(f'/Users/sidchaudhary/Documents/GitHub/Hydro-Seesaw/Results/{time_period}_{scenario}_{season}.csv', index=False)\n",
    "\n",
    "# Save aggregated results in a single file\n",
    "grouped_with_polygons.to_csv('/Users/sidchaudhary/Documents/GitHub/Hydro-Seesaw/Results/aggregated_results_with_early_baseline.csv', index=False)"
   ]
  }
 ],
 "metadata": {
  "kernelspec": {
   "display_name": "streamflow",
   "language": "python",
   "name": "python3"
  },
  "language_info": {
   "codemirror_mode": {
    "name": "ipython",
    "version": 3
   },
   "file_extension": ".py",
   "mimetype": "text/x-python",
   "name": "python",
   "nbconvert_exporter": "python",
   "pygments_lexer": "ipython3",
   "version": "3.9.19"
  }
 },
 "nbformat": 4,
 "nbformat_minor": 2
}
