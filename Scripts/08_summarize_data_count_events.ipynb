{
 "cells": [
  {
   "cell_type": "markdown",
   "metadata": {},
   "source": [
    "\"\"\"\n",
    "Updated on Saturday Oct 05 2024\n",
    "\n",
    "Purpose: Create aggregated data frame for seasons and time period \n",
    "@author: Siddharth Chaudhary\n",
    "\"\"\""
   ]
  },
  {
   "cell_type": "code",
   "execution_count": 2,
   "metadata": {},
   "outputs": [
    {
     "name": "stdout",
     "output_type": "stream",
     "text": [
      "Intel MKL WARNING: Support of Intel(R) Streaming SIMD Extensions 4.2 (Intel(R) SSE4.2) enabled only processors has been deprecated. Intel oneAPI Math Kernel Library 2025.0 will require Intel(R) Advanced Vector Extensions (Intel(R) AVX) instructions.\n",
      "Intel MKL WARNING: Support of Intel(R) Streaming SIMD Extensions 4.2 (Intel(R) SSE4.2) enabled only processors has been deprecated. Intel oneAPI Math Kernel Library 2025.0 will require Intel(R) Advanced Vector Extensions (Intel(R) AVX) instructions.\n"
     ]
    }
   ],
   "source": [
    "import pandas as pd\n",
    "import numpy as np\n",
    "import matplotlib.pyplot as plt\n",
    "import random\n",
    "import parquet"
   ]
  },
  {
   "cell_type": "code",
   "execution_count": 3,
   "metadata": {},
   "outputs": [],
   "source": [
    "# Specify the path to the extracted Parquet file\n",
    "parquet_file = \"/Volumes/Personal/streamflow/grouped_median_discharge.parquet\"\n",
    "\n",
    "# Read the Parquet file into a DataFrame\n",
    "df = pd.read_parquet(parquet_file)\n"
   ]
  },
  {
   "cell_type": "code",
   "execution_count": 4,
   "metadata": {},
   "outputs": [
    {
     "data": {
      "text/html": [
       "<div>\n",
       "<style scoped>\n",
       "    .dataframe tbody tr th:only-of-type {\n",
       "        vertical-align: middle;\n",
       "    }\n",
       "\n",
       "    .dataframe tbody tr th {\n",
       "        vertical-align: top;\n",
       "    }\n",
       "\n",
       "    .dataframe thead th {\n",
       "        text-align: right;\n",
       "    }\n",
       "</style>\n",
       "<table border=\"1\" class=\"dataframe\">\n",
       "  <thead>\n",
       "    <tr style=\"text-align: right;\">\n",
       "      <th></th>\n",
       "      <th>time</th>\n",
       "      <th>station_name</th>\n",
       "      <th>scenario</th>\n",
       "      <th>discharge</th>\n",
       "    </tr>\n",
       "  </thead>\n",
       "  <tbody>\n",
       "    <tr>\n",
       "      <th>0</th>\n",
       "      <td>1976-01-07</td>\n",
       "      <td>1104150.0</td>\n",
       "      <td>hist</td>\n",
       "      <td>83.478806</td>\n",
       "    </tr>\n",
       "    <tr>\n",
       "      <th>1</th>\n",
       "      <td>1976-01-07</td>\n",
       "      <td>1104200.0</td>\n",
       "      <td>hist</td>\n",
       "      <td>0.680449</td>\n",
       "    </tr>\n",
       "    <tr>\n",
       "      <th>2</th>\n",
       "      <td>1976-01-07</td>\n",
       "      <td>1104300.0</td>\n",
       "      <td>hist</td>\n",
       "      <td>4.381658</td>\n",
       "    </tr>\n",
       "    <tr>\n",
       "      <th>3</th>\n",
       "      <td>1976-01-07</td>\n",
       "      <td>1104450.0</td>\n",
       "      <td>hist</td>\n",
       "      <td>NaN</td>\n",
       "    </tr>\n",
       "    <tr>\n",
       "      <th>4</th>\n",
       "      <td>1976-01-07</td>\n",
       "      <td>1104480.0</td>\n",
       "      <td>hist</td>\n",
       "      <td>0.244086</td>\n",
       "    </tr>\n",
       "  </tbody>\n",
       "</table>\n",
       "</div>"
      ],
      "text/plain": [
       "        time  station_name scenario  discharge\n",
       "0 1976-01-07     1104150.0     hist  83.478806\n",
       "1 1976-01-07     1104200.0     hist   0.680449\n",
       "2 1976-01-07     1104300.0     hist   4.381658\n",
       "3 1976-01-07     1104450.0     hist        NaN\n",
       "4 1976-01-07     1104480.0     hist   0.244086"
      ]
     },
     "execution_count": 4,
     "metadata": {},
     "output_type": "execute_result"
    }
   ],
   "source": [
    "df.head()\n",
    "#df.shape"
   ]
  },
  {
   "cell_type": "code",
   "execution_count": 5,
   "metadata": {},
   "outputs": [],
   "source": [
    "# Convert 'time' column to datetime format\n",
    "df['time'] = pd.to_datetime(df['time'])\n",
    "\n",
    "# Extract year, month, and day into separate columns\n",
    "df['year'] = df['time'].dt.year\n",
    "df['month'] = df['time'].dt.month\n",
    "df['day'] = df['time'].dt.day\n",
    "\n",
    "# Create 'time_period' column based on the year\n",
    "conditions = [\n",
    "    (df['year'] < 2006),\n",
    "    (df['year'] >= 2006) & (df['year'] < 2040),\n",
    "    (df['year'] >= 2040) & (df['year'] < 2070),\n",
    "    (df['year'] >= 2070)\n",
    "]\n",
    "choices = ['historical', 'early', 'mid', 'end']\n",
    "\n",
    "df['time_period'] = pd.cut(df['year'], bins=[-float('inf'), 2005, 2039, 2069, float('inf')], labels=choices, right=False)\n"
   ]
  },
  {
   "cell_type": "code",
   "execution_count": 6,
   "metadata": {},
   "outputs": [
    {
     "data": {
      "text/plain": [
       "(120614936, 8)"
      ]
     },
     "execution_count": 6,
     "metadata": {},
     "output_type": "execute_result"
    }
   ],
   "source": [
    "df = df.dropna()\n",
    "df.shape"
   ]
  },
  {
   "cell_type": "code",
   "execution_count": 7,
   "metadata": {},
   "outputs": [],
   "source": [
    "conditions = [\n",
    "    (df['month'].isin([1, 2, 3])),\n",
    "    (df['month'].isin([4, 5, 6])),\n",
    "    (df['month'].isin([7, 8, 9])),\n",
    "    (df['month'].isin([10, 11, 12]))\n",
    "]\n",
    "\n",
    "choices = ['Season 1', 'Season 2', 'Season 3', 'Season 4']\n",
    "\n",
    "# Create new column 'season'\n",
    "df['season'] = np.select(conditions, choices)"
   ]
  },
  {
   "cell_type": "code",
   "execution_count": 8,
   "metadata": {},
   "outputs": [
    {
     "data": {
      "text/plain": [
       "Index(['time', 'station_name', 'scenario', 'discharge', 'year', 'month', 'day',\n",
       "       'time_period', 'season'],\n",
       "      dtype='object')"
      ]
     },
     "execution_count": 8,
     "metadata": {},
     "output_type": "execute_result"
    }
   ],
   "source": [
    "df.columns"
   ]
  },
  {
   "cell_type": "code",
   "execution_count": 9,
   "metadata": {},
   "outputs": [
    {
     "name": "stdout",
     "output_type": "stream",
     "text": [
      "['hist' 'rcp4p5' 'rcp8p5']\n"
     ]
    }
   ],
   "source": [
    "unique_scenario = df['scenario'].unique()\n",
    "\n",
    "# Print unique values\n",
    "print(unique_scenario)"
   ]
  },
  {
   "cell_type": "code",
   "execution_count": 10,
   "metadata": {},
   "outputs": [
    {
     "name": "stdout",
     "output_type": "stream",
     "text": [
      "['historical', 'early', 'mid', 'end']\n",
      "Categories (4, object): ['historical' < 'early' < 'mid' < 'end']\n"
     ]
    }
   ],
   "source": [
    "unique_time_period = df['time_period'].unique()\n",
    "\n",
    "# Print unique values\n",
    "print(unique_time_period)"
   ]
  },
  {
   "cell_type": "code",
   "execution_count": 11,
   "metadata": {},
   "outputs": [
    {
     "name": "stdout",
     "output_type": "stream",
     "text": [
      "                    p1        p5        p10         p90         p95  \\\n",
      "station_name                                                          \n",
      "1104150.0     2.598351  6.308822  11.348228  224.553796  280.981632   \n",
      "1104200.0     0.003896  0.026722   0.043520    1.659673    2.133056   \n",
      "1104300.0     0.000133  0.001142   0.005574    7.366641    9.939234   \n",
      "1104480.0     0.000000  0.000000   0.000000    0.280867    0.390582   \n",
      "1104500.0     0.052046  0.105169   0.158477    1.145553    1.427213   \n",
      "...                ...       ...        ...         ...         ...   \n",
      "6984800.0     0.025626  0.065388   0.072911   90.388947  122.973452   \n",
      "6986100.0     0.618985  1.391174   2.161176   18.560699   22.239927   \n",
      "6987050.0     1.820842  2.247439   2.561722   11.106482   13.143107   \n",
      "6987100.0     5.842051  8.441415  10.145994   34.617324   38.627123   \n",
      "6987150.0     1.113012  1.569021   1.845787    6.090517    6.922308   \n",
      "\n",
      "                     p99  \n",
      "station_name              \n",
      "1104150.0     395.200117  \n",
      "1104200.0       3.360957  \n",
      "1104300.0      16.728632  \n",
      "1104480.0       0.605555  \n",
      "1104500.0       2.158926  \n",
      "...                  ...  \n",
      "6984800.0     164.959299  \n",
      "6986100.0      28.599727  \n",
      "6987050.0      16.513420  \n",
      "6987100.0      47.572308  \n",
      "6987150.0       8.975490  \n",
      "\n",
      "[10647 rows x 6 columns]\n"
     ]
    }
   ],
   "source": [
    "df['time'] = pd.to_datetime(df['time'])\n",
    "\n",
    "# Filter the DataFrame where scenario is 'hist'\n",
    "filtered_df = df[df['scenario'] == 'hist']\n",
    "\n",
    "# Define the percentiles to calculate\n",
    "percentiles = [1, 5, 10, 90, 95, 99]\n",
    "\n",
    "percentile_df = filtered_df.groupby('station_name')['discharge'].quantile([p/100 for p in percentiles]).unstack()\n",
    "\n",
    "# Rename the columns for clarity\n",
    "percentile_df.columns = [f'p{int(p)}' for p in percentiles]\n",
    "\n",
    "# Merge the percentiles back into the original DataFrame\n",
    "\n",
    "print(percentile_df)"
   ]
  },
  {
   "cell_type": "code",
   "execution_count": 12,
   "metadata": {},
   "outputs": [],
   "source": [
    "df = df.merge(percentile_df, on='station_name', how='left')"
   ]
  },
  {
   "cell_type": "code",
   "execution_count": 13,
   "metadata": {},
   "outputs": [
    {
     "data": {
      "text/plain": [
       "<bound method NDFrame.head of                 time  station_name scenario  discharge  year  month  day  \\\n",
       "0         1976-01-07     1104150.0     hist  83.478806  1976      1    7   \n",
       "1         1976-01-07     1104200.0     hist   0.680449  1976      1    7   \n",
       "2         1976-01-07     1104300.0     hist   4.381658  1976      1    7   \n",
       "3         1976-01-07     1104480.0     hist   0.244086  1976      1    7   \n",
       "4         1976-01-07     1104500.0     hist   0.671000  1976      1    7   \n",
       "...              ...           ...      ...        ...   ...    ...  ...   \n",
       "120614931 2099-12-30     6987050.0   rcp8p5   7.912493  2099     12   30   \n",
       "120614932 2099-12-30     6987100.0   rcp4p5  50.412224  2099     12   30   \n",
       "120614933 2099-12-30     6987100.0   rcp8p5  26.211447  2099     12   30   \n",
       "120614934 2099-12-30     6987150.0   rcp4p5   8.691892  2099     12   30   \n",
       "120614935 2099-12-30     6987150.0   rcp8p5   4.085582  2099     12   30   \n",
       "\n",
       "          time_period    season        p1        p5        p10         p90  \\\n",
       "0          historical  Season 1  2.598351  6.308822  11.348228  224.553796   \n",
       "1          historical  Season 1  0.003896  0.026722   0.043520    1.659673   \n",
       "2          historical  Season 1  0.000133  0.001142   0.005574    7.366641   \n",
       "3          historical  Season 1  0.000000  0.000000   0.000000    0.280867   \n",
       "4          historical  Season 1  0.052046  0.105169   0.158477    1.145553   \n",
       "...               ...       ...       ...       ...        ...         ...   \n",
       "120614931         end  Season 4  1.820842  2.247439   2.561722   11.106482   \n",
       "120614932         end  Season 4  5.842051  8.441415  10.145994   34.617324   \n",
       "120614933         end  Season 4  5.842051  8.441415  10.145994   34.617324   \n",
       "120614934         end  Season 4  1.113012  1.569021   1.845787    6.090517   \n",
       "120614935         end  Season 4  1.113012  1.569021   1.845787    6.090517   \n",
       "\n",
       "                  p95         p99  \n",
       "0          280.981632  395.200117  \n",
       "1            2.133056    3.360957  \n",
       "2            9.939234   16.728632  \n",
       "3            0.390582    0.605555  \n",
       "4            1.427213    2.158926  \n",
       "...               ...         ...  \n",
       "120614931   13.143107   16.513420  \n",
       "120614932   38.627123   47.572308  \n",
       "120614933   38.627123   47.572308  \n",
       "120614934    6.922308    8.975490  \n",
       "120614935    6.922308    8.975490  \n",
       "\n",
       "[120614936 rows x 15 columns]>"
      ]
     },
     "execution_count": 13,
     "metadata": {},
     "output_type": "execute_result"
    }
   ],
   "source": [
    "df.head"
   ]
  },
  {
   "cell_type": "code",
   "execution_count": 14,
   "metadata": {},
   "outputs": [
    {
     "name": "stdout",
     "output_type": "stream",
     "text": [
      "                time  station_name scenario  discharge  year  month  day  \\\n",
      "0         1976-01-07     1104150.0     hist  83.478806  1976      1    7   \n",
      "1         1976-01-07     1104200.0     hist   0.680449  1976      1    7   \n",
      "2         1976-01-07     1104300.0     hist   4.381658  1976      1    7   \n",
      "3         1976-01-07     1104480.0     hist   0.244086  1976      1    7   \n",
      "4         1976-01-07     1104500.0     hist   0.671000  1976      1    7   \n",
      "...              ...           ...      ...        ...   ...    ...  ...   \n",
      "120614931 2099-12-30     6987050.0   rcp8p5   7.912493  2099     12   30   \n",
      "120614932 2099-12-30     6987100.0   rcp4p5  50.412224  2099     12   30   \n",
      "120614933 2099-12-30     6987100.0   rcp8p5  26.211447  2099     12   30   \n",
      "120614934 2099-12-30     6987150.0   rcp4p5   8.691892  2099     12   30   \n",
      "120614935 2099-12-30     6987150.0   rcp8p5   4.085582  2099     12   30   \n",
      "\n",
      "          time_period    season        p1  ...        p10         p90  \\\n",
      "0          historical  Season 1  2.598351  ...  11.348228  224.553796   \n",
      "1          historical  Season 1  0.003896  ...   0.043520    1.659673   \n",
      "2          historical  Season 1  0.000133  ...   0.005574    7.366641   \n",
      "3          historical  Season 1  0.000000  ...   0.000000    0.280867   \n",
      "4          historical  Season 1  0.052046  ...   0.158477    1.145553   \n",
      "...               ...       ...       ...  ...        ...         ...   \n",
      "120614931         end  Season 4  1.820842  ...   2.561722   11.106482   \n",
      "120614932         end  Season 4  5.842051  ...  10.145994   34.617324   \n",
      "120614933         end  Season 4  5.842051  ...  10.145994   34.617324   \n",
      "120614934         end  Season 4  1.113012  ...   1.845787    6.090517   \n",
      "120614935         end  Season 4  1.113012  ...   1.845787    6.090517   \n",
      "\n",
      "                  p95         p99  p1_flag  p5_flag  p10_flag  p90_flag  \\\n",
      "0          280.981632  395.200117        0        0         0         0   \n",
      "1            2.133056    3.360957        0        0         0         0   \n",
      "2            9.939234   16.728632        0        0         0         0   \n",
      "3            0.390582    0.605555        0        0         0         0   \n",
      "4            1.427213    2.158926        0        0         0         0   \n",
      "...               ...         ...      ...      ...       ...       ...   \n",
      "120614931   13.143107   16.513420        0        0         0         0   \n",
      "120614932   38.627123   47.572308        0        0         0         1   \n",
      "120614933   38.627123   47.572308        0        0         0         0   \n",
      "120614934    6.922308    8.975490        0        0         0         1   \n",
      "120614935    6.922308    8.975490        0        0         0         0   \n",
      "\n",
      "           p95_flag  p99_flag  \n",
      "0                 0         0  \n",
      "1                 0         0  \n",
      "2                 0         0  \n",
      "3                 0         0  \n",
      "4                 0         0  \n",
      "...             ...       ...  \n",
      "120614931         0         0  \n",
      "120614932         1         1  \n",
      "120614933         0         0  \n",
      "120614934         1         0  \n",
      "120614935         0         0  \n",
      "\n",
      "[120614936 rows x 21 columns]\n"
     ]
    }
   ],
   "source": [
    "# Create new columns based on the comparison criteria\n",
    "df['p1_flag'] = df['discharge'] < df['p1']\n",
    "df['p5_flag'] = df['discharge'] < df['p5']\n",
    "df['p10_flag'] = df['discharge'] < df['p10']\n",
    "df['p90_flag'] = df['discharge'] > df['p90']\n",
    "df['p95_flag'] = df['discharge'] > df['p95']\n",
    "df['p99_flag'] = df['discharge'] > df['p99']\n",
    "\n",
    "# Convert boolean flags to integers (1 or 0)\n",
    "df['p1_flag'] = df['p1_flag'].astype(int)\n",
    "df['p5_flag'] = df['p5_flag'].astype(int)\n",
    "df['p10_flag'] = df['p10_flag'].astype(int)\n",
    "df['p90_flag'] = df['p90_flag'].astype(int)\n",
    "df['p95_flag'] = df['p95_flag'].astype(int)\n",
    "df['p99_flag'] = df['p99_flag'].astype(int)\n",
    "\n",
    "# Display the resulting DataFrame\n",
    "print(df)"
   ]
  },
  {
   "cell_type": "code",
   "execution_count": 14,
   "metadata": {},
   "outputs": [],
   "source": [
    "#df.to_csv('/Users/sidchaudhary/Documents/GitHub/Hydro-Seesaw/Results/station_weekly_flag_counts_early_mid_end.csv')"
   ]
  },
  {
   "cell_type": "code",
   "execution_count": 25,
   "metadata": {},
   "outputs": [
    {
     "name": "stderr",
     "output_type": "stream",
     "text": [
      "/var/folders/6m/5x0j99_x7rvfb4pbskvvf5s40000gn/T/ipykernel_15372/3617876415.py:2: FutureWarning: The default of observed=False is deprecated and will be changed to True in a future version of pandas. Pass observed=False to retain current behavior or observed=True to adopt the future default and silence this warning.\n",
      "  flag_counts = df_early_mid_end.groupby(['station_name','scenario','time_period','season'])[['p1_flag', 'p5_flag', 'p10_flag', 'p90_flag', 'p95_flag', 'p99_flag']].sum()\n"
     ]
    },
    {
     "name": "stdout",
     "output_type": "stream",
     "text": [
      "                                            p1_flag  p5_flag  p10_flag  \\\n",
      "station_name scenario time_period season                                 \n",
      "1104150.0    hist     historical  Season 1        0        0         0   \n",
      "                                  Season 2        0        1         2   \n",
      "                                  Season 3       15       68       124   \n",
      "                                  Season 4        1        9        30   \n",
      "                      early       Season 1        0        0         0   \n",
      "...                                             ...      ...       ...   \n",
      "6987150.0    rcp8p5   mid         Season 4       10       46        64   \n",
      "                      end         Season 1        0        1         2   \n",
      "                                  Season 2        0        2        11   \n",
      "                                  Season 3       56      170       236   \n",
      "                                  Season 4       13       48        71   \n",
      "\n",
      "                                            p90_flag  p95_flag  p99_flag  \n",
      "station_name scenario time_period season                                  \n",
      "1104150.0    hist     historical  Season 1       110        60        13  \n",
      "                                  Season 2        35        12         1  \n",
      "                                  Season 3         0         0         0  \n",
      "                                  Season 4         7         4         2  \n",
      "                      early       Season 1         4         2         0  \n",
      "...                                              ...       ...       ...  \n",
      "6987150.0    rcp8p5   mid         Season 4        77        52        18  \n",
      "                      end         Season 1        81        51         9  \n",
      "                                  Season 2        13         5         1  \n",
      "                                  Season 3         3         2         1  \n",
      "                                  Season 4        86        62        22  \n",
      "\n",
      "[511056 rows x 6 columns]\n"
     ]
    }
   ],
   "source": [
    "df_early_mid_end = df[(df['time_period'] == 'historical') |(df['time_period'] == 'early') | (df['time_period'] == 'mid')| (df['time_period'] == 'end')]\n",
    "flag_counts = df_early_mid_end.groupby(['station_name','scenario','time_period','season'])[['p1_flag', 'p5_flag', 'p10_flag', 'p90_flag', 'p95_flag', 'p99_flag']].sum()\n",
    "print(flag_counts)"
   ]
  },
  {
   "cell_type": "code",
   "execution_count": 28,
   "metadata": {},
   "outputs": [
    {
     "name": "stderr",
     "output_type": "stream",
     "text": [
      "/var/folders/6m/5x0j99_x7rvfb4pbskvvf5s40000gn/T/ipykernel_15372/2943227123.py:1: FutureWarning: The default of observed=False is deprecated and will be changed to True in a future version of pandas. Pass observed=False to retain current behavior or observed=True to adopt the future default and silence this warning.\n",
      "  annual_sums = flag_counts.groupby(['station_name', 'scenario', 'time_period']).sum()\n"
     ]
    },
    {
     "name": "stdout",
     "output_type": "stream",
     "text": [
      "                                            p1_flag  p5_flag  p10_flag  \\\n",
      "station_name scenario time_period season                                 \n",
      "1104150.0    hist     historical  Annual         16       78       156   \n",
      "                                  Season 1        0        0         0   \n",
      "                                  Season 2        0        1         2   \n",
      "                                  Season 3       15       68       124   \n",
      "                                  Season 4        1        9        30   \n",
      "...                                             ...      ...       ...   \n",
      "6987150.0    rcp8p5   end         Annual         69      221       320   \n",
      "                                  Season 1        0        1         2   \n",
      "                                  Season 2        0        2        11   \n",
      "                                  Season 3       56      170       236   \n",
      "                                  Season 4       13       48        71   \n",
      "\n",
      "                                            p90_flag  p95_flag  p99_flag  \n",
      "station_name scenario time_period season                                  \n",
      "1104150.0    hist     historical  Annual         152        76        16  \n",
      "                                  Season 1       110        60        13  \n",
      "                                  Season 2        35        12         1  \n",
      "                                  Season 3         0         0         0  \n",
      "                                  Season 4         7         4         2  \n",
      "...                                              ...       ...       ...  \n",
      "6987150.0    rcp8p5   end         Annual         183       120        33  \n",
      "                                  Season 1        81        51         9  \n",
      "                                  Season 2        13         5         1  \n",
      "                                  Season 3         3         2         1  \n",
      "                                  Season 4        86        62        22  \n",
      "\n",
      "[638820 rows x 6 columns]\n"
     ]
    }
   ],
   "source": [
    "annual_sums = flag_counts.groupby(['station_name', 'scenario', 'time_period']).sum()\n",
    "\n",
    "# Create a DataFrame for the annual sums\n",
    "annual_sums = annual_sums.reset_index()\n",
    "annual_sums['season'] = 'Annual'\n",
    "\n",
    "# Set the multi-index for annual_sums to match flag_counts\n",
    "annual_sums.set_index(['station_name', 'scenario', 'time_period', 'season'], inplace=True)\n",
    "\n",
    "# Concatenate the annual sums into the original flag_counts DataFrame\n",
    "flag_counts = pd.concat([flag_counts, annual_sums])\n",
    "\n",
    "# Sort the DataFrame if needed\n",
    "flag_counts.sort_index(inplace=True)\n",
    "\n",
    "# Print the updated DataFrame\n",
    "print(flag_counts)"
   ]
  },
  {
   "cell_type": "code",
   "execution_count": 29,
   "metadata": {},
   "outputs": [
    {
     "data": {
      "text/plain": [
       "Index(['p1_flag', 'p5_flag', 'p10_flag', 'p90_flag', 'p95_flag', 'p99_flag'], dtype='object')"
      ]
     },
     "execution_count": 29,
     "metadata": {},
     "output_type": "execute_result"
    }
   ],
   "source": [
    "flag_counts.columns"
   ]
  },
  {
   "cell_type": "code",
   "execution_count": 30,
   "metadata": {},
   "outputs": [],
   "source": [
    "flag_counts.to_csv('/Users/sidchaudhary/Documents/GitHub/Hydro-Seesaw/Results/flag_counts_early_mid_end_season.csv')\n",
    "#flag_counts_mid.to_parquet('file_name.parquet', engine='pyarrow')"
   ]
  },
  {
   "cell_type": "code",
   "execution_count": 31,
   "metadata": {},
   "outputs": [],
   "source": [
    "df_flag_counts = pd.read_csv('/Users/sidchaudhary/Documents/GitHub/Hydro-Seesaw/Results/flag_counts_early_mid_end_season.csv')\n",
    "df_station_name = pd.read_csv('/Users/sidchaudhary/Documents/GitHub/Hydro-Seesaw/data/staion_id.csv')\n",
    "merged_df = pd.merge(df_flag_counts, df_station_name, on='station_name', how='inner')"
   ]
  },
  {
   "cell_type": "code",
   "execution_count": 32,
   "metadata": {},
   "outputs": [],
   "source": [
    "merged_df.to_csv('/Users/sidchaudhary/Documents/GitHub/Hydro-Seesaw/Results/lat_lon_flag_counts_early_mid_end_season.csv')"
   ]
  }
 ],
 "metadata": {
  "kernelspec": {
   "display_name": "ams-workshop",
   "language": "python",
   "name": "python3"
  },
  "language_info": {
   "codemirror_mode": {
    "name": "ipython",
    "version": 3
   },
   "file_extension": ".py",
   "mimetype": "text/x-python",
   "name": "python",
   "nbconvert_exporter": "python",
   "pygments_lexer": "ipython3",
   "version": "3.9.19"
  }
 },
 "nbformat": 4,
 "nbformat_minor": 2
}
