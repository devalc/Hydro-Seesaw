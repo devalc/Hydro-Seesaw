{
 "cells": [
  {
   "cell_type": "markdown",
   "metadata": {},
   "source": [
    "\"\"\"\n",
    "Updated on Wednesday April 02 2025\n",
    "\n",
    "Purpose: Create aggregated data frame for seasons and time period using early season as the reference period.\n",
    "@author: Siddharth Chaudhary, Chinmay Deval\n",
    "\"\"\""
   ]
  },
  {
   "cell_type": "code",
   "execution_count": 34,
   "metadata": {},
   "outputs": [],
   "source": [
    "import pandas as pd\n",
    "import numpy as np\n",
    "import matplotlib.pyplot as plt\n",
    "import random"
   ]
  },
  {
   "cell_type": "code",
   "execution_count": 35,
   "metadata": {},
   "outputs": [],
   "source": [
    "# Specify the path to the extracted Parquet file\n",
    "parquet_file = \"/Users/cdeval/Library/CloudStorage/OneDrive-NASA/workspace/hydroseesaw_04_02_2025/Results/grouped_median_discharge.parquet\"\n",
    "\n",
    "# Read the Parquet file into a DataFrame\n",
    "df = pd.read_parquet(parquet_file)\n"
   ]
  },
  {
   "cell_type": "code",
   "execution_count": 36,
   "metadata": {},
   "outputs": [
    {
     "data": {
      "text/html": [
       "<div>\n",
       "<style scoped>\n",
       "    .dataframe tbody tr th:only-of-type {\n",
       "        vertical-align: middle;\n",
       "    }\n",
       "\n",
       "    .dataframe tbody tr th {\n",
       "        vertical-align: top;\n",
       "    }\n",
       "\n",
       "    .dataframe thead th {\n",
       "        text-align: right;\n",
       "    }\n",
       "</style>\n",
       "<table border=\"1\" class=\"dataframe\">\n",
       "  <thead>\n",
       "    <tr style=\"text-align: right;\">\n",
       "      <th></th>\n",
       "      <th>time</th>\n",
       "      <th>station_name</th>\n",
       "      <th>scenario</th>\n",
       "      <th>discharge</th>\n",
       "    </tr>\n",
       "  </thead>\n",
       "  <tbody>\n",
       "    <tr>\n",
       "      <th>0</th>\n",
       "      <td>1976-01-07</td>\n",
       "      <td>1104150.0</td>\n",
       "      <td>hist</td>\n",
       "      <td>83.478806</td>\n",
       "    </tr>\n",
       "    <tr>\n",
       "      <th>1</th>\n",
       "      <td>1976-01-07</td>\n",
       "      <td>1104200.0</td>\n",
       "      <td>hist</td>\n",
       "      <td>0.680449</td>\n",
       "    </tr>\n",
       "    <tr>\n",
       "      <th>2</th>\n",
       "      <td>1976-01-07</td>\n",
       "      <td>1104300.0</td>\n",
       "      <td>hist</td>\n",
       "      <td>4.381658</td>\n",
       "    </tr>\n",
       "    <tr>\n",
       "      <th>3</th>\n",
       "      <td>1976-01-07</td>\n",
       "      <td>1104450.0</td>\n",
       "      <td>hist</td>\n",
       "      <td>NaN</td>\n",
       "    </tr>\n",
       "    <tr>\n",
       "      <th>4</th>\n",
       "      <td>1976-01-07</td>\n",
       "      <td>1104480.0</td>\n",
       "      <td>hist</td>\n",
       "      <td>0.244086</td>\n",
       "    </tr>\n",
       "  </tbody>\n",
       "</table>\n",
       "</div>"
      ],
      "text/plain": [
       "        time  station_name scenario  discharge\n",
       "0 1976-01-07     1104150.0     hist  83.478806\n",
       "1 1976-01-07     1104200.0     hist   0.680449\n",
       "2 1976-01-07     1104300.0     hist   4.381658\n",
       "3 1976-01-07     1104450.0     hist        NaN\n",
       "4 1976-01-07     1104480.0     hist   0.244086"
      ]
     },
     "execution_count": 36,
     "metadata": {},
     "output_type": "execute_result"
    }
   ],
   "source": [
    "df.head()\n",
    "#df.shape"
   ]
  },
  {
   "cell_type": "code",
   "execution_count": 37,
   "metadata": {},
   "outputs": [],
   "source": [
    "# Convert 'time' column to datetime format\n",
    "df['time'] = pd.to_datetime(df['time'])\n",
    "\n",
    "# Extract year, month, and day into separate columns\n",
    "df['year'] = df['time'].dt.year\n",
    "df['month'] = df['time'].dt.month\n",
    "df['day'] = df['time'].dt.day\n",
    "\n",
    "# Create 'time_period' column based on the year\n",
    "conditions = [\n",
    "    (df['year'] < 2006),\n",
    "    (df['year'] >= 2006) & (df['year'] < 2040),\n",
    "    (df['year'] >= 2040) & (df['year'] < 2070),\n",
    "    (df['year'] >= 2070)\n",
    "]\n",
    "choices = ['historical', 'early', 'mid', 'end']\n",
    "\n",
    "df['time_period'] = pd.cut(df['year'], bins=[-float('inf'), 2005, 2039, 2069, float('inf')], labels=choices, right=False)\n"
   ]
  },
  {
   "cell_type": "code",
   "execution_count": 38,
   "metadata": {},
   "outputs": [
    {
     "data": {
      "text/plain": [
       "(120614936, 8)"
      ]
     },
     "execution_count": 38,
     "metadata": {},
     "output_type": "execute_result"
    }
   ],
   "source": [
    "df = df.dropna()\n",
    "df.shape"
   ]
  },
  {
   "cell_type": "code",
   "execution_count": 39,
   "metadata": {},
   "outputs": [],
   "source": [
    "conditions = [\n",
    "    (df['month'].isin([1, 2, 3])),\n",
    "    (df['month'].isin([4, 5, 6])),\n",
    "    (df['month'].isin([7, 8, 9])),\n",
    "    (df['month'].isin([10, 11, 12]))\n",
    "]\n",
    "\n",
    "choices = ['Season 1', 'Season 2', 'Season 3', 'Season 4']\n",
    "\n",
    "# Create new column 'season'\n",
    "df['season'] = np.select(conditions, choices)"
   ]
  },
  {
   "cell_type": "code",
   "execution_count": 40,
   "metadata": {},
   "outputs": [
    {
     "data": {
      "text/plain": [
       "Index(['time', 'station_name', 'scenario', 'discharge', 'year', 'month', 'day',\n",
       "       'time_period', 'season'],\n",
       "      dtype='object')"
      ]
     },
     "execution_count": 40,
     "metadata": {},
     "output_type": "execute_result"
    }
   ],
   "source": [
    "df.columns"
   ]
  },
  {
   "cell_type": "code",
   "execution_count": 41,
   "metadata": {},
   "outputs": [
    {
     "name": "stdout",
     "output_type": "stream",
     "text": [
      "['hist' 'rcp4p5' 'rcp8p5']\n"
     ]
    }
   ],
   "source": [
    "unique_scenario = df['scenario'].unique()\n",
    "\n",
    "# Print unique values\n",
    "print(unique_scenario)"
   ]
  },
  {
   "cell_type": "code",
   "execution_count": 42,
   "metadata": {},
   "outputs": [
    {
     "name": "stdout",
     "output_type": "stream",
     "text": [
      "['historical', 'early', 'mid', 'end']\n",
      "Categories (4, object): ['historical' < 'early' < 'mid' < 'end']\n"
     ]
    }
   ],
   "source": [
    "unique_time_period = df['time_period'].unique()\n",
    "\n",
    "# Print unique values\n",
    "print(unique_time_period)"
   ]
  },
  {
   "cell_type": "code",
   "execution_count": 43,
   "metadata": {},
   "outputs": [
    {
     "name": "stdout",
     "output_type": "stream",
     "text": [
      "               time  station_name scenario  discharge  year  month  day  \\\n",
      "16755960 2006-01-07     1104150.0   rcp4p5  65.950020  2006      1    7   \n",
      "16755962 2006-01-07     1104200.0   rcp4p5   3.584657  2006      1    7   \n",
      "16755964 2006-01-07     1104300.0   rcp4p5   1.388593  2006      1    7   \n",
      "16755968 2006-01-07     1104480.0   rcp4p5   0.000000  2006      1    7   \n",
      "16755970 2006-01-07     1104500.0   rcp4p5   1.369061  2006      1    7   \n",
      "...             ...           ...      ...        ...   ...    ...  ...   \n",
      "53619056 2038-12-30     6984800.0   rcp4p5   0.123562  2038     12   30   \n",
      "53619058 2038-12-30     6986100.0   rcp4p5   1.980656  2038     12   30   \n",
      "53619060 2038-12-30     6987050.0   rcp4p5  13.569571  2038     12   30   \n",
      "53619062 2038-12-30     6987100.0   rcp4p5  35.874016  2038     12   30   \n",
      "53619064 2038-12-30     6987150.0   rcp4p5   5.896697  2038     12   30   \n",
      "\n",
      "         time_period    season  \n",
      "16755960       early  Season 1  \n",
      "16755962       early  Season 1  \n",
      "16755964       early  Season 1  \n",
      "16755968       early  Season 1  \n",
      "16755970       early  Season 1  \n",
      "...              ...       ...  \n",
      "53619056       early  Season 4  \n",
      "53619058       early  Season 4  \n",
      "53619060       early  Season 4  \n",
      "53619062       early  Season 4  \n",
      "53619064       early  Season 4  \n",
      "\n",
      "[18256524 rows x 9 columns]\n"
     ]
    }
   ],
   "source": [
    "df['time'] = pd.to_datetime(df['time'])\n",
    "\n",
    "# Filter the DataFrame where scenario is 'early'\n",
    "filtered_df_rcp4p5 = df[(df['time_period'] == 'early') & (df['scenario'] == 'rcp4p5')]\n",
    "\n",
    "print(filtered_df_rcp4p5)\n"
   ]
  },
  {
   "cell_type": "code",
   "execution_count": 44,
   "metadata": {},
   "outputs": [
    {
     "name": "stdout",
     "output_type": "stream",
     "text": [
      "(18256524, 9)\n",
      "['historical', 'early', 'mid', 'end']\n",
      "Categories (4, object): ['historical' < 'early' < 'mid' < 'end']\n",
      "['hist' 'rcp4p5' 'rcp8p5']\n"
     ]
    }
   ],
   "source": [
    "\n",
    "# Define the percentiles to calculate\n",
    "percentiles = [1, 5, 10, 90, 95, 99]\n",
    "\n",
    "\n",
    "print(filtered_df_rcp4p5.shape)  # Check if there are any rows\n",
    "\n",
    "\n",
    "print(df['time_period'].unique())\n",
    "print(df['scenario'].unique())\n",
    "\n",
    "percentile_df = filtered_df_rcp4p5.groupby('station_name')['discharge'].quantile([p/100 for p in percentiles]).unstack()\n"
   ]
  },
  {
   "cell_type": "code",
   "execution_count": 61,
   "metadata": {},
   "outputs": [
    {
     "name": "stdout",
     "output_type": "stream",
     "text": [
      "                    p1        p5       p10         p90         p95         p99\n",
      "station_name                                                                  \n",
      "1104150.0     0.911356  3.016048  5.413468  181.815979  226.945702  374.284752\n",
      "1104200.0     0.011176  0.045931  0.055648    1.419360    1.875435    2.842895\n",
      "1104300.0     0.000024  0.000170  0.000526    1.782947    2.344092    3.148132\n",
      "1104480.0     0.000000  0.000000  0.000000    0.000000    0.000000    0.000000\n",
      "1104500.0     0.022643  0.030721  0.051891    1.008466    1.216985    1.524037\n",
      "...                ...       ...       ...         ...         ...         ...\n",
      "6984800.0     0.072631  0.120436  0.121504   82.968037  121.276436  172.321814\n",
      "6986100.0     0.787956  2.006996  3.285601   18.656515   23.178034   28.426647\n",
      "6987050.0     1.905736  2.274863  2.545876   12.139941   14.278536   18.976341\n",
      "6987100.0     5.699624  7.923030  9.601435   36.743090   42.557071   57.162220\n",
      "6987150.0     1.091009  1.477573  1.799672    6.403368    7.420020    9.746065\n",
      "\n",
      "[10639 rows x 6 columns]\n"
     ]
    }
   ],
   "source": [
    "\n",
    "# Rename the columns for clarity\n",
    "percentile_df.columns = [f'p{int(p)}' for p in percentiles]\n",
    "\n",
    "# Merge the percentiles back into the original DataFrame\n",
    "filtered_df.groupby('station_name')['discharge']\n",
    "print(percentile_df)\n",
    "\n",
    "percentile_df.to_csv('/Users/cdeval/Library/CloudStorage/OneDrive-NASA/workspace/hydroseesaw_04_02_2025/Results/percentile_thresholds_at_stations_with_early_as_baseline.csv')"
   ]
  },
  {
   "cell_type": "code",
   "execution_count": 49,
   "metadata": {},
   "outputs": [
    {
     "name": "stdout",
     "output_type": "stream",
     "text": [
      "['early', 'mid', 'end']\n",
      "Categories (4, object): ['historical' < 'early' < 'mid' < 'end']\n",
      "                time  station_name scenario  discharge  year  month  day  \\\n",
      "16755960  2006-01-07     1104150.0   rcp4p5  65.950020  2006      1    7   \n",
      "16755961  2006-01-07     1104150.0   rcp8p5  65.625732  2006      1    7   \n",
      "16755962  2006-01-07     1104200.0   rcp4p5   3.584657  2006      1    7   \n",
      "16755963  2006-01-07     1104200.0   rcp8p5   3.097179  2006      1    7   \n",
      "16755964  2006-01-07     1104300.0   rcp4p5   1.388593  2006      1    7   \n",
      "...              ...           ...      ...        ...   ...    ...  ...   \n",
      "121759965 2099-12-30     6987050.0   rcp8p5   7.912493  2099     12   30   \n",
      "121759966 2099-12-30     6987100.0   rcp4p5  50.412224  2099     12   30   \n",
      "121759967 2099-12-30     6987100.0   rcp8p5  26.211447  2099     12   30   \n",
      "121759968 2099-12-30     6987150.0   rcp4p5   8.691892  2099     12   30   \n",
      "121759969 2099-12-30     6987150.0   rcp8p5   4.085582  2099     12   30   \n",
      "\n",
      "          time_period    season  \n",
      "16755960        early  Season 1  \n",
      "16755961        early  Season 1  \n",
      "16755962        early  Season 1  \n",
      "16755963        early  Season 1  \n",
      "16755964        early  Season 1  \n",
      "...               ...       ...  \n",
      "121759965         end  Season 4  \n",
      "121759966         end  Season 4  \n",
      "121759967         end  Season 4  \n",
      "121759968         end  Season 4  \n",
      "121759969         end  Season 4  \n",
      "\n",
      "[104006864 rows x 9 columns]\n"
     ]
    }
   ],
   "source": [
    "# remove historical ts from df before merging\n",
    "\n",
    "df = df[(df['scenario'] != 'hist') & (df['time_period'] != 'historical')]\n",
    "print(df['time_period'].unique())\n",
    "print(df)"
   ]
  },
  {
   "cell_type": "code",
   "execution_count": 50,
   "metadata": {},
   "outputs": [],
   "source": [
    "df = df.merge(percentile_df, on='station_name', how='left')"
   ]
  },
  {
   "cell_type": "code",
   "execution_count": 51,
   "metadata": {},
   "outputs": [
    {
     "data": {
      "text/plain": [
       "<bound method NDFrame.head of                 time  station_name scenario  discharge  year  month  day  \\\n",
       "0         2006-01-07     1104150.0   rcp4p5  65.950020  2006      1    7   \n",
       "1         2006-01-07     1104150.0   rcp8p5  65.625732  2006      1    7   \n",
       "2         2006-01-07     1104200.0   rcp4p5   3.584657  2006      1    7   \n",
       "3         2006-01-07     1104200.0   rcp8p5   3.097179  2006      1    7   \n",
       "4         2006-01-07     1104300.0   rcp4p5   1.388593  2006      1    7   \n",
       "...              ...           ...      ...        ...   ...    ...  ...   \n",
       "104006859 2099-12-30     6987050.0   rcp8p5   7.912493  2099     12   30   \n",
       "104006860 2099-12-30     6987100.0   rcp4p5  50.412224  2099     12   30   \n",
       "104006861 2099-12-30     6987100.0   rcp8p5  26.211447  2099     12   30   \n",
       "104006862 2099-12-30     6987150.0   rcp4p5   8.691892  2099     12   30   \n",
       "104006863 2099-12-30     6987150.0   rcp8p5   4.085582  2099     12   30   \n",
       "\n",
       "          time_period    season        p1        p5       p10         p90  \\\n",
       "0               early  Season 1  0.911356  3.016048  5.413468  181.815979   \n",
       "1               early  Season 1  0.911356  3.016048  5.413468  181.815979   \n",
       "2               early  Season 1  0.011176  0.045931  0.055648    1.419360   \n",
       "3               early  Season 1  0.011176  0.045931  0.055648    1.419360   \n",
       "4               early  Season 1  0.000024  0.000170  0.000526    1.782947   \n",
       "...               ...       ...       ...       ...       ...         ...   \n",
       "104006859         end  Season 4  1.905736  2.274863  2.545876   12.139941   \n",
       "104006860         end  Season 4  5.699624  7.923030  9.601435   36.743090   \n",
       "104006861         end  Season 4  5.699624  7.923030  9.601435   36.743090   \n",
       "104006862         end  Season 4  1.091009  1.477573  1.799672    6.403368   \n",
       "104006863         end  Season 4  1.091009  1.477573  1.799672    6.403368   \n",
       "\n",
       "                  p95         p99  \n",
       "0          226.945702  374.284752  \n",
       "1          226.945702  374.284752  \n",
       "2            1.875435    2.842895  \n",
       "3            1.875435    2.842895  \n",
       "4            2.344092    3.148132  \n",
       "...               ...         ...  \n",
       "104006859   14.278536   18.976341  \n",
       "104006860   42.557071   57.162220  \n",
       "104006861   42.557071   57.162220  \n",
       "104006862    7.420020    9.746065  \n",
       "104006863    7.420020    9.746065  \n",
       "\n",
       "[104006864 rows x 15 columns]>"
      ]
     },
     "execution_count": 51,
     "metadata": {},
     "output_type": "execute_result"
    }
   ],
   "source": [
    "df.head"
   ]
  },
  {
   "cell_type": "code",
   "execution_count": 52,
   "metadata": {},
   "outputs": [
    {
     "name": "stdout",
     "output_type": "stream",
     "text": [
      "                time  station_name scenario  discharge  year  month  day  \\\n",
      "0         2006-01-07     1104150.0   rcp4p5  65.950020  2006      1    7   \n",
      "1         2006-01-07     1104150.0   rcp8p5  65.625732  2006      1    7   \n",
      "2         2006-01-07     1104200.0   rcp4p5   3.584657  2006      1    7   \n",
      "3         2006-01-07     1104200.0   rcp8p5   3.097179  2006      1    7   \n",
      "4         2006-01-07     1104300.0   rcp4p5   1.388593  2006      1    7   \n",
      "...              ...           ...      ...        ...   ...    ...  ...   \n",
      "104006859 2099-12-30     6987050.0   rcp8p5   7.912493  2099     12   30   \n",
      "104006860 2099-12-30     6987100.0   rcp4p5  50.412224  2099     12   30   \n",
      "104006861 2099-12-30     6987100.0   rcp8p5  26.211447  2099     12   30   \n",
      "104006862 2099-12-30     6987150.0   rcp4p5   8.691892  2099     12   30   \n",
      "104006863 2099-12-30     6987150.0   rcp8p5   4.085582  2099     12   30   \n",
      "\n",
      "          time_period    season        p1  ...       p10         p90  \\\n",
      "0               early  Season 1  0.911356  ...  5.413468  181.815979   \n",
      "1               early  Season 1  0.911356  ...  5.413468  181.815979   \n",
      "2               early  Season 1  0.011176  ...  0.055648    1.419360   \n",
      "3               early  Season 1  0.011176  ...  0.055648    1.419360   \n",
      "4               early  Season 1  0.000024  ...  0.000526    1.782947   \n",
      "...               ...       ...       ...  ...       ...         ...   \n",
      "104006859         end  Season 4  1.905736  ...  2.545876   12.139941   \n",
      "104006860         end  Season 4  5.699624  ...  9.601435   36.743090   \n",
      "104006861         end  Season 4  5.699624  ...  9.601435   36.743090   \n",
      "104006862         end  Season 4  1.091009  ...  1.799672    6.403368   \n",
      "104006863         end  Season 4  1.091009  ...  1.799672    6.403368   \n",
      "\n",
      "                  p95         p99  p1_flag  p5_flag  p10_flag  p90_flag  \\\n",
      "0          226.945702  374.284752        0        0         0         0   \n",
      "1          226.945702  374.284752        0        0         0         0   \n",
      "2            1.875435    2.842895        0        0         0         1   \n",
      "3            1.875435    2.842895        0        0         0         1   \n",
      "4            2.344092    3.148132        0        0         0         0   \n",
      "...               ...         ...      ...      ...       ...       ...   \n",
      "104006859   14.278536   18.976341        0        0         0         0   \n",
      "104006860   42.557071   57.162220        0        0         0         1   \n",
      "104006861   42.557071   57.162220        0        0         0         0   \n",
      "104006862    7.420020    9.746065        0        0         0         1   \n",
      "104006863    7.420020    9.746065        0        0         0         0   \n",
      "\n",
      "           p95_flag  p99_flag  \n",
      "0                 0         0  \n",
      "1                 0         0  \n",
      "2                 1         1  \n",
      "3                 1         1  \n",
      "4                 0         0  \n",
      "...             ...       ...  \n",
      "104006859         0         0  \n",
      "104006860         1         0  \n",
      "104006861         0         0  \n",
      "104006862         1         0  \n",
      "104006863         0         0  \n",
      "\n",
      "[104006864 rows x 21 columns]\n"
     ]
    }
   ],
   "source": [
    "# Create new columns based on the comparison criteria\n",
    "df['p1_flag'] = df['discharge'] < df['p1']\n",
    "df['p5_flag'] = df['discharge'] < df['p5']\n",
    "df['p10_flag'] = df['discharge'] < df['p10']\n",
    "df['p90_flag'] = df['discharge'] > df['p90']\n",
    "df['p95_flag'] = df['discharge'] > df['p95']\n",
    "df['p99_flag'] = df['discharge'] > df['p99']\n",
    "\n",
    "# Convert boolean flags to integers (1 or 0)\n",
    "df['p1_flag'] = df['p1_flag'].astype(int)\n",
    "df['p5_flag'] = df['p5_flag'].astype(int)\n",
    "df['p10_flag'] = df['p10_flag'].astype(int)\n",
    "df['p90_flag'] = df['p90_flag'].astype(int)\n",
    "df['p95_flag'] = df['p95_flag'].astype(int)\n",
    "df['p99_flag'] = df['p99_flag'].astype(int)\n",
    "\n",
    "# Display the resulting DataFrame\n",
    "print(df)"
   ]
  },
  {
   "cell_type": "code",
   "execution_count": 14,
   "metadata": {},
   "outputs": [],
   "source": [
    "#df.to_csv('/Users/sidchaudhary/Documents/GitHub/Hydro-Seesaw/Results/station_weekly_flag_counts_early_mid_end.csv')"
   ]
  },
  {
   "cell_type": "code",
   "execution_count": 53,
   "metadata": {},
   "outputs": [
    {
     "name": "stderr",
     "output_type": "stream",
     "text": [
      "/var/folders/61/rsv0_yrn6zj37sg5hjgdt3q00000gp/T/ipykernel_47629/3653648116.py:2: FutureWarning: The default of observed=False is deprecated and will be changed to True in a future version of pandas. Pass observed=False to retain current behavior or observed=True to adopt the future default and silence this warning.\n",
      "  flag_counts = df_early_mid_end.groupby(['station_name','scenario','time_period','season'])[['p1_flag', 'p5_flag', 'p10_flag', 'p90_flag', 'p95_flag', 'p99_flag']].sum()\n"
     ]
    },
    {
     "name": "stdout",
     "output_type": "stream",
     "text": [
      "                                            p1_flag  p5_flag  p10_flag  \\\n",
      "station_name scenario time_period season                                 \n",
      "1104150.0    rcp4p5   historical  Season 1        0        0         0   \n",
      "                                  Season 2        0        0         0   \n",
      "                                  Season 3        0        0         0   \n",
      "                                  Season 4        0        0         0   \n",
      "                      early       Season 1        0        0         0   \n",
      "...                                             ...      ...       ...   \n",
      "6987150.0    rcp8p5   mid         Season 4       10       39        63   \n",
      "                      end         Season 1        0        0         2   \n",
      "                                  Season 2        0        2         9   \n",
      "                                  Season 3       50      144       227   \n",
      "                                  Season 4       13       42        66   \n",
      "\n",
      "                                            p90_flag  p95_flag  p99_flag  \n",
      "station_name scenario time_period season                                  \n",
      "1104150.0    rcp4p5   historical  Season 1         0         0         0  \n",
      "                                  Season 2         0         0         0  \n",
      "                                  Season 3         0         0         0  \n",
      "                                  Season 4         0         0         0  \n",
      "                      early       Season 1       112        64        14  \n",
      "...                                              ...       ...       ...  \n",
      "6987150.0    rcp8p5   mid         Season 4        71        35        14  \n",
      "                      end         Season 1        66        35         6  \n",
      "                                  Season 2        10         3         1  \n",
      "                                  Season 3         3         1         1  \n",
      "                                  Season 4        77        46        13  \n",
      "\n",
      "[340448 rows x 6 columns]\n"
     ]
    }
   ],
   "source": [
    "df_early_mid_end = df[(df['time_period'] == 'early') | (df['time_period'] == 'mid')| (df['time_period'] == 'end')]\n",
    "flag_counts = df_early_mid_end.groupby(['station_name','scenario','time_period','season'])[['p1_flag', 'p5_flag', 'p10_flag', 'p90_flag', 'p95_flag', 'p99_flag']].sum()\n",
    "print(flag_counts)"
   ]
  },
  {
   "cell_type": "code",
   "execution_count": 54,
   "metadata": {},
   "outputs": [
    {
     "name": "stdout",
     "output_type": "stream",
     "text": [
      "                                            p1_flag  p5_flag  p10_flag  \\\n",
      "station_name scenario time_period season                                 \n",
      "1104150.0    rcp4p5   historical  Annual          0        0         0   \n",
      "                                  Season 1        0        0         0   \n",
      "                                  Season 2        0        0         0   \n",
      "                                  Season 3        0        0         0   \n",
      "                                  Season 4        0        0         0   \n",
      "...                                             ...      ...       ...   \n",
      "6987150.0    rcp8p5   end         Annual         63      188       304   \n",
      "                                  Season 1        0        0         2   \n",
      "                                  Season 2        0        2         9   \n",
      "                                  Season 3       50      144       227   \n",
      "                                  Season 4       13       42        66   \n",
      "\n",
      "                                            p90_flag  p95_flag  p99_flag  \n",
      "station_name scenario time_period season                                  \n",
      "1104150.0    rcp4p5   historical  Annual           0         0         0  \n",
      "                                  Season 1         0         0         0  \n",
      "                                  Season 2         0         0         0  \n",
      "                                  Season 3         0         0         0  \n",
      "                                  Season 4         0         0         0  \n",
      "...                                              ...       ...       ...  \n",
      "6987150.0    rcp8p5   end         Annual         156        85        21  \n",
      "                                  Season 1        66        35         6  \n",
      "                                  Season 2        10         3         1  \n",
      "                                  Season 3         3         1         1  \n",
      "                                  Season 4        77        46        13  \n",
      "\n",
      "[425560 rows x 6 columns]\n"
     ]
    },
    {
     "name": "stderr",
     "output_type": "stream",
     "text": [
      "/var/folders/61/rsv0_yrn6zj37sg5hjgdt3q00000gp/T/ipykernel_47629/2943227123.py:1: FutureWarning: The default of observed=False is deprecated and will be changed to True in a future version of pandas. Pass observed=False to retain current behavior or observed=True to adopt the future default and silence this warning.\n",
      "  annual_sums = flag_counts.groupby(['station_name', 'scenario', 'time_period']).sum()\n"
     ]
    }
   ],
   "source": [
    "annual_sums = flag_counts.groupby(['station_name', 'scenario', 'time_period']).sum()\n",
    "\n",
    "# Create a DataFrame for the annual sums\n",
    "annual_sums = annual_sums.reset_index()\n",
    "annual_sums['season'] = 'Annual'\n",
    "\n",
    "# Set the multi-index for annual_sums to match flag_counts\n",
    "annual_sums.set_index(['station_name', 'scenario', 'time_period', 'season'], inplace=True)\n",
    "\n",
    "# Concatenate the annual sums into the original flag_counts DataFrame\n",
    "flag_counts = pd.concat([flag_counts, annual_sums])\n",
    "\n",
    "# Sort the DataFrame if needed\n",
    "flag_counts.sort_index(inplace=True)\n",
    "\n",
    "# Print the updated DataFrame\n",
    "print(flag_counts)"
   ]
  },
  {
   "cell_type": "code",
   "execution_count": 55,
   "metadata": {},
   "outputs": [
    {
     "data": {
      "text/plain": [
       "Index(['p1_flag', 'p5_flag', 'p10_flag', 'p90_flag', 'p95_flag', 'p99_flag'], dtype='object')"
      ]
     },
     "execution_count": 55,
     "metadata": {},
     "output_type": "execute_result"
    }
   ],
   "source": [
    "flag_counts.columns"
   ]
  },
  {
   "cell_type": "code",
   "execution_count": 56,
   "metadata": {},
   "outputs": [],
   "source": [
    "flag_counts.to_csv('/Users/cdeval/Library/CloudStorage/OneDrive-NASA/workspace/hydroseesaw_04_02_2025/Results/flag_counts_mid_end_season_with_early_baseline.csv')\n",
    "#flag_counts_mid.to_parquet('file_name.parquet', engine='pyarrow')"
   ]
  },
  {
   "cell_type": "code",
   "execution_count": 57,
   "metadata": {},
   "outputs": [],
   "source": [
    "df_flag_counts = pd.read_csv('/Users/cdeval/Library/CloudStorage/OneDrive-NASA/workspace/hydroseesaw_04_02_2025/Results/flag_counts_mid_end_season_with_early_baseline.csv')\n",
    "df_station_name = pd.read_csv('/Users/cdeval/Library/CloudStorage/OneDrive-NASA/workspace/hydroseesaw_04_02_2025/data/staion_id.csv')\n",
    "merged_df = pd.merge(df_flag_counts, df_station_name, on='station_name', how='inner')"
   ]
  },
  {
   "cell_type": "code",
   "execution_count": 59,
   "metadata": {},
   "outputs": [],
   "source": [
    "merged_df.to_csv('/Users/cdeval/Library/CloudStorage/OneDrive-NASA/workspace/hydroseesaw_04_02_2025/Results/lat_lon_flag_counts_mid_end_season_with_early_baseline.csv')"
   ]
  },
  {
   "cell_type": "code",
   "execution_count": null,
   "metadata": {},
   "outputs": [],
   "source": []
  }
 ],
 "metadata": {
  "kernelspec": {
   "display_name": "Python 3 (ipykernel)",
   "language": "python",
   "name": "python3"
  },
  "language_info": {
   "codemirror_mode": {
    "name": "ipython",
    "version": 3
   },
   "file_extension": ".py",
   "mimetype": "text/x-python",
   "name": "python",
   "nbconvert_exporter": "python",
   "pygments_lexer": "ipython3",
   "version": "3.12.3"
  }
 },
 "nbformat": 4,
 "nbformat_minor": 4
}
