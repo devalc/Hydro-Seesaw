{
 "cells": [
  {
   "cell_type": "code",
   "execution_count": 14,
   "metadata": {},
   "outputs": [],
   "source": [
    "import pandas as pd\n",
    "import matplotlib.pyplot as plt\n",
    "import geopandas as gpd\n",
    "from shapely.geometry import Point\n",
    "import contextily as ctx\n",
    "from matplotlib.colors import ListedColormap\n"
   ]
  },
  {
   "cell_type": "code",
   "execution_count": 15,
   "metadata": {},
   "outputs": [],
   "source": [
    "df = pd.read_csv('/Users/sidchaudhary/Documents/GitHub/Hydro-Seesaw/Results/filtered_p99__rcp4p5.csv')\n",
    "\n",
    "# Ensure that the 'lat' and 'long' columns are numeric\n",
    "df['lat'] = pd.to_numeric(df['lat'], errors='coerce')\n",
    "df['long'] = pd.to_numeric(df['long'], errors='coerce')\n",
    "\n",
    "# Drop rows with invalid coordinates\n",
    "df.dropna(subset=['lat', 'long'], inplace=True)\n",
    "\n",
    "# Create a GeoDataFrame\n",
    "geometry = [Point(xy) for xy in zip(df['long'], df['lat'])]\n",
    "gdf = gpd.GeoDataFrame(df, geometry=geometry, crs=\"EPSG:4326\")\n",
    "\n",
    "# Define the time periods\n",
    "time_periods = ['historical', 'early', 'mid', 'end']\n",
    "cmap = plt.get_cmap('tab10', 11)  # 'tab10' colormap has 10 distinct colors\n",
    "colors = cmap.colors\n",
    "cmap = ListedColormap(colors)\n"
   ]
  },
  {
   "cell_type": "code",
   "execution_count": 17,
   "metadata": {},
   "outputs": [],
   "source": [
    "for period in time_periods:\n",
    "    # Filter data for the current time period\n",
    "    gdf_period = gdf[gdf['time_period'] == period]\n",
    "    \n",
    "    # Check if there's data for the current period\n",
    "    if gdf_period.empty:\n",
    "        print(f\"No data available for {period.capitalize()}. Skipping...\")\n",
    "        continue\n",
    "    \n",
    "    # Plotting\n",
    "    fig, ax = plt.subplots(figsize=(10, 10))\n",
    "    gdf_period.plot(ax=ax, \n",
    "                    column='cluster', \n",
    "                    cmap=cmap, \n",
    "                    legend=True, \n",
    "                    markersize=50,  # Adjust marker size as needed\n",
    "                    alpha=0.7, \n",
    "                    edgecolor='k')\n",
    "    \n",
    "\n",
    "    \n",
    "    # Set titles and labels\n",
    "    ax.set_title(f'Map for {period.capitalize()}')\n",
    "    ax.set_xlabel('Longitude')\n",
    "    ax.set_ylabel('Latitude')\n",
    "    \n",
    "    # Save the plot as a PNG file\n",
    "    plt.savefig(f'rcp4p5_map_{period}.png', bbox_inches='tight')\n",
    "    plt.close()\n"
   ]
  }
 ],
 "metadata": {
  "kernelspec": {
   "display_name": "streamflow",
   "language": "python",
   "name": "python3"
  },
  "language_info": {
   "codemirror_mode": {
    "name": "ipython",
    "version": 3
   },
   "file_extension": ".py",
   "mimetype": "text/x-python",
   "name": "python",
   "nbconvert_exporter": "python",
   "pygments_lexer": "ipython3",
   "version": "3.9.19"
  }
 },
 "nbformat": 4,
 "nbformat_minor": 2
}
