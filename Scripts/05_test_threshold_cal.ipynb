{
 "cells": [
  {
   "cell_type": "code",
   "execution_count": 1,
   "metadata": {},
   "outputs": [],
   "source": [
    "import pandas as pd\n",
    "import matplotlib.pyplot as plt\n",
    "import random\n",
    "import parquet"
   ]
  },
  {
   "cell_type": "code",
   "execution_count": 2,
   "metadata": {},
   "outputs": [],
   "source": [
    "# Specify the path to the extracted Parquet file\n",
    "parquet_file = \"/Volumes/Personal/streamflow/grouped_median_discharge.parquet\"\n",
    "\n",
    "# Read the Parquet file into a DataFrame\n",
    "df = pd.read_parquet(parquet_file)\n"
   ]
  },
  {
   "cell_type": "code",
   "execution_count": 3,
   "metadata": {},
   "outputs": [
    {
     "data": {
      "text/html": [
       "<div>\n",
       "<style scoped>\n",
       "    .dataframe tbody tr th:only-of-type {\n",
       "        vertical-align: middle;\n",
       "    }\n",
       "\n",
       "    .dataframe tbody tr th {\n",
       "        vertical-align: top;\n",
       "    }\n",
       "\n",
       "    .dataframe thead th {\n",
       "        text-align: right;\n",
       "    }\n",
       "</style>\n",
       "<table border=\"1\" class=\"dataframe\">\n",
       "  <thead>\n",
       "    <tr style=\"text-align: right;\">\n",
       "      <th></th>\n",
       "      <th>time</th>\n",
       "      <th>station_name</th>\n",
       "      <th>scenario</th>\n",
       "      <th>discharge</th>\n",
       "    </tr>\n",
       "  </thead>\n",
       "  <tbody>\n",
       "    <tr>\n",
       "      <th>0</th>\n",
       "      <td>1976-01-07</td>\n",
       "      <td>1104150.0</td>\n",
       "      <td>hist</td>\n",
       "      <td>83.478806</td>\n",
       "    </tr>\n",
       "    <tr>\n",
       "      <th>1</th>\n",
       "      <td>1976-01-07</td>\n",
       "      <td>1104200.0</td>\n",
       "      <td>hist</td>\n",
       "      <td>0.680449</td>\n",
       "    </tr>\n",
       "    <tr>\n",
       "      <th>2</th>\n",
       "      <td>1976-01-07</td>\n",
       "      <td>1104300.0</td>\n",
       "      <td>hist</td>\n",
       "      <td>4.381658</td>\n",
       "    </tr>\n",
       "    <tr>\n",
       "      <th>3</th>\n",
       "      <td>1976-01-07</td>\n",
       "      <td>1104450.0</td>\n",
       "      <td>hist</td>\n",
       "      <td>NaN</td>\n",
       "    </tr>\n",
       "    <tr>\n",
       "      <th>4</th>\n",
       "      <td>1976-01-07</td>\n",
       "      <td>1104480.0</td>\n",
       "      <td>hist</td>\n",
       "      <td>0.244086</td>\n",
       "    </tr>\n",
       "  </tbody>\n",
       "</table>\n",
       "</div>"
      ],
      "text/plain": [
       "        time  station_name scenario  discharge\n",
       "0 1976-01-07     1104150.0     hist  83.478806\n",
       "1 1976-01-07     1104200.0     hist   0.680449\n",
       "2 1976-01-07     1104300.0     hist   4.381658\n",
       "3 1976-01-07     1104450.0     hist        NaN\n",
       "4 1976-01-07     1104480.0     hist   0.244086"
      ]
     },
     "execution_count": 3,
     "metadata": {},
     "output_type": "execute_result"
    }
   ],
   "source": [
    "df.head()\n",
    "#df.shape"
   ]
  },
  {
   "cell_type": "code",
   "execution_count": 7,
   "metadata": {},
   "outputs": [],
   "source": [
    "# Convert 'time' column to datetime format\n",
    "df['time'] = pd.to_datetime(df['time'])\n",
    "\n",
    "# Extract year, month, and day into separate columns\n",
    "df['year'] = df['time'].dt.year\n",
    "df['month'] = df['time'].dt.month\n",
    "df['day'] = df['time'].dt.day\n",
    "\n",
    "# Create 'time_period' column based on the year\n",
    "conditions = [\n",
    "    (df['year'] < 2020),\n",
    "    (df['year'] >= 2020) & (df['year'] < 2060),\n",
    "    (df['year'] >= 2060)\n",
    "]\n",
    "choices = ['historical', 'mid', 'end']\n",
    "\n",
    "df['time_period'] = pd.Series(pd.Categorical(pd.cut(df['year'], bins=[-float('inf'), 2019, 2059, float('inf')], labels=choices, include_lowest=True)))\n"
   ]
  },
  {
   "cell_type": "code",
   "execution_count": 8,
   "metadata": {},
   "outputs": [
    {
     "data": {
      "text/plain": [
       "(119480792, 8)"
      ]
     },
     "execution_count": 8,
     "metadata": {},
     "output_type": "execute_result"
    }
   ],
   "source": [
    "df = df.dropna()\n",
    "df.shape"
   ]
  },
  {
   "cell_type": "code",
   "execution_count": 9,
   "metadata": {},
   "outputs": [
    {
     "name": "stdout",
     "output_type": "stream",
     "text": [
      "['hist' 'rcp4p5' 'rcp8p5']\n"
     ]
    }
   ],
   "source": [
    "unique_scenario = df['scenario'].unique()\n",
    "\n",
    "# Print unique values\n",
    "print(unique_scenario)"
   ]
  },
  {
   "cell_type": "code",
   "execution_count": 10,
   "metadata": {},
   "outputs": [
    {
     "name": "stdout",
     "output_type": "stream",
     "text": [
      "['historical', 'mid', 'end']\n",
      "Categories (3, object): ['historical' < 'mid' < 'end']\n"
     ]
    }
   ],
   "source": [
    "unique_time_period = df['time_period'].unique()\n",
    "\n",
    "# Print unique values\n",
    "print(unique_time_period)"
   ]
  },
  {
   "cell_type": "code",
   "execution_count": 5,
   "metadata": {},
   "outputs": [
    {
     "data": {
      "text/plain": [
       "99.05959245589865"
      ]
     },
     "execution_count": 5,
     "metadata": {},
     "output_type": "execute_result"
    }
   ],
   "source": [
    "(df.shape[0]/121759976)*100"
   ]
  },
  {
   "cell_type": "code",
   "execution_count": 11,
   "metadata": {},
   "outputs": [
    {
     "name": "stdout",
     "output_type": "stream",
     "text": [
      "                    p1        p5        p10         p90         p95  \\\n",
      "station_name                                                          \n",
      "1104150.0     2.598351  6.308822  11.348228  224.553796  280.981632   \n",
      "1104200.0     0.003896  0.026722   0.043520    1.659673    2.133056   \n",
      "1104300.0     0.000133  0.001142   0.005574    7.366641    9.939234   \n",
      "1104480.0     0.000000  0.000000   0.000000    0.280867    0.390582   \n",
      "1104500.0     0.052046  0.105169   0.158477    1.145553    1.427213   \n",
      "...                ...       ...        ...         ...         ...   \n",
      "6984800.0     0.025626  0.065388   0.072911   90.388947  122.973452   \n",
      "6986100.0     0.618985  1.391174   2.161176   18.560699   22.239927   \n",
      "6987050.0     1.820842  2.247439   2.561722   11.106482   13.143107   \n",
      "6987100.0     5.842051  8.441415  10.145994   34.617324   38.627123   \n",
      "6987150.0     1.113012  1.569021   1.845787    6.090517    6.922308   \n",
      "\n",
      "                     p99  \n",
      "station_name              \n",
      "1104150.0     395.200117  \n",
      "1104200.0       3.360957  \n",
      "1104300.0      16.728632  \n",
      "1104480.0       0.605555  \n",
      "1104500.0       2.158926  \n",
      "...                  ...  \n",
      "6984800.0     164.959299  \n",
      "6986100.0      28.599727  \n",
      "6987050.0      16.513420  \n",
      "6987100.0      47.572308  \n",
      "6987150.0       8.975490  \n",
      "\n",
      "[10647 rows x 6 columns]\n"
     ]
    }
   ],
   "source": [
    "df['time'] = pd.to_datetime(df['time'])\n",
    "\n",
    "# Filter the DataFrame where scenario is 'hist'\n",
    "filtered_df = df[df['scenario'] == 'hist']\n",
    "\n",
    "# Define the percentiles to calculate\n",
    "percentiles = [1, 5, 10, 90, 95, 99]\n",
    "\n",
    "percentile_df = filtered_df.groupby('station_name')['discharge'].quantile([p/100 for p in percentiles]).unstack()\n",
    "\n",
    "# Rename the columns for clarity\n",
    "percentile_df.columns = [f'p{int(p)}' for p in percentiles]\n",
    "\n",
    "# Merge the percentiles back into the original DataFrame\n",
    "\n",
    "print(percentile_df)"
   ]
  },
  {
   "cell_type": "code",
   "execution_count": 12,
   "metadata": {},
   "outputs": [],
   "source": [
    "df = df.merge(percentile_df, on='station_name', how='left')"
   ]
  },
  {
   "cell_type": "code",
   "execution_count": 13,
   "metadata": {},
   "outputs": [
    {
     "data": {
      "text/plain": [
       "<bound method NDFrame.head of                 time  station_name scenario  discharge  year  month  day  \\\n",
       "0         1976-01-07     1104150.0     hist  83.478806  1976      1    7   \n",
       "1         1976-01-07     1104200.0     hist   0.680449  1976      1    7   \n",
       "2         1976-01-07     1104300.0     hist   4.381658  1976      1    7   \n",
       "3         1976-01-07     1104480.0     hist   0.244086  1976      1    7   \n",
       "4         1976-01-07     1104500.0     hist   0.671000  1976      1    7   \n",
       "...              ...           ...      ...        ...   ...    ...  ...   \n",
       "119480787 2098-12-23     5606172.0   rcp8p5   0.022447  2098     12   23   \n",
       "119480788 2098-12-23     5606173.0   rcp4p5   0.890564  2098     12   23   \n",
       "119480789 2098-12-23     5606173.0   rcp8p5   0.011531  2098     12   23   \n",
       "119480790 2098-12-23     5606174.0   rcp4p5   0.214002  2098     12   23   \n",
       "119480791 2098-12-23     5606174.0   rcp8p5   0.002629  2098     12   23   \n",
       "\n",
       "          time_period        p1        p5        p10         p90         p95  \\\n",
       "0          historical  2.598351  6.308822  11.348228  224.553796  280.981632   \n",
       "1          historical  0.003896  0.026722   0.043520    1.659673    2.133056   \n",
       "2          historical  0.000133  0.001142   0.005574    7.366641    9.939234   \n",
       "3          historical  0.000000  0.000000   0.000000    0.280867    0.390582   \n",
       "4          historical  0.052046  0.105169   0.158477    1.145553    1.427213   \n",
       "...               ...       ...       ...        ...         ...         ...   \n",
       "119480787         end  1.197642  1.226653   1.295182    2.670596    2.980846   \n",
       "119480788         end  1.689834  1.725088   1.824736    4.027401    4.524327   \n",
       "119480789         end  1.689834  1.725088   1.824736    4.027401    4.524327   \n",
       "119480790         end  0.031797  0.051834   0.069265    4.055051    4.698152   \n",
       "119480791         end  0.031797  0.051834   0.069265    4.055051    4.698152   \n",
       "\n",
       "                  p99  \n",
       "0          395.200117  \n",
       "1            3.360957  \n",
       "2           16.728632  \n",
       "3            0.605555  \n",
       "4            2.158926  \n",
       "...               ...  \n",
       "119480787    3.738425  \n",
       "119480788    5.775571  \n",
       "119480789    5.775571  \n",
       "119480790    5.707512  \n",
       "119480791    5.707512  \n",
       "\n",
       "[119480792 rows x 14 columns]>"
      ]
     },
     "execution_count": 13,
     "metadata": {},
     "output_type": "execute_result"
    }
   ],
   "source": [
    "df.head"
   ]
  },
  {
   "cell_type": "code",
   "execution_count": 14,
   "metadata": {},
   "outputs": [
    {
     "name": "stdout",
     "output_type": "stream",
     "text": [
      "                time  station_name scenario  discharge  year  month  day  \\\n",
      "0         1976-01-07     1104150.0     hist  83.478806  1976      1    7   \n",
      "1         1976-01-07     1104200.0     hist   0.680449  1976      1    7   \n",
      "2         1976-01-07     1104300.0     hist   4.381658  1976      1    7   \n",
      "3         1976-01-07     1104480.0     hist   0.244086  1976      1    7   \n",
      "4         1976-01-07     1104500.0     hist   0.671000  1976      1    7   \n",
      "...              ...           ...      ...        ...   ...    ...  ...   \n",
      "119480787 2098-12-23     5606172.0   rcp8p5   0.022447  2098     12   23   \n",
      "119480788 2098-12-23     5606173.0   rcp4p5   0.890564  2098     12   23   \n",
      "119480789 2098-12-23     5606173.0   rcp8p5   0.011531  2098     12   23   \n",
      "119480790 2098-12-23     5606174.0   rcp4p5   0.214002  2098     12   23   \n",
      "119480791 2098-12-23     5606174.0   rcp8p5   0.002629  2098     12   23   \n",
      "\n",
      "          time_period        p1        p5        p10         p90         p95  \\\n",
      "0          historical  2.598351  6.308822  11.348228  224.553796  280.981632   \n",
      "1          historical  0.003896  0.026722   0.043520    1.659673    2.133056   \n",
      "2          historical  0.000133  0.001142   0.005574    7.366641    9.939234   \n",
      "3          historical  0.000000  0.000000   0.000000    0.280867    0.390582   \n",
      "4          historical  0.052046  0.105169   0.158477    1.145553    1.427213   \n",
      "...               ...       ...       ...        ...         ...         ...   \n",
      "119480787         end  1.197642  1.226653   1.295182    2.670596    2.980846   \n",
      "119480788         end  1.689834  1.725088   1.824736    4.027401    4.524327   \n",
      "119480789         end  1.689834  1.725088   1.824736    4.027401    4.524327   \n",
      "119480790         end  0.031797  0.051834   0.069265    4.055051    4.698152   \n",
      "119480791         end  0.031797  0.051834   0.069265    4.055051    4.698152   \n",
      "\n",
      "                  p99  p1_flag  p5_flag  p10_flag  p90_flag  p95_flag  \\\n",
      "0          395.200117        0        0         0         0         0   \n",
      "1            3.360957        0        0         0         0         0   \n",
      "2           16.728632        0        0         0         0         0   \n",
      "3            0.605555        0        0         0         0         0   \n",
      "4            2.158926        0        0         0         0         0   \n",
      "...               ...      ...      ...       ...       ...       ...   \n",
      "119480787    3.738425        1        1         1         0         0   \n",
      "119480788    5.775571        1        1         1         0         0   \n",
      "119480789    5.775571        1        1         1         0         0   \n",
      "119480790    5.707512        0        0         0         0         0   \n",
      "119480791    5.707512        1        1         1         0         0   \n",
      "\n",
      "           p99_flag  \n",
      "0                 0  \n",
      "1                 0  \n",
      "2                 0  \n",
      "3                 0  \n",
      "4                 0  \n",
      "...             ...  \n",
      "119480787         0  \n",
      "119480788         0  \n",
      "119480789         0  \n",
      "119480790         0  \n",
      "119480791         0  \n",
      "\n",
      "[119480792 rows x 20 columns]\n"
     ]
    }
   ],
   "source": [
    "# Create new columns based on the comparison criteria\n",
    "df['p1_flag'] = df['discharge'] < df['p1']\n",
    "df['p5_flag'] = df['discharge'] < df['p5']\n",
    "df['p10_flag'] = df['discharge'] < df['p10']\n",
    "df['p90_flag'] = df['discharge'] > df['p90']\n",
    "df['p95_flag'] = df['discharge'] > df['p95']\n",
    "df['p99_flag'] = df['discharge'] > df['p99']\n",
    "\n",
    "# Convert boolean flags to integers (1 or 0)\n",
    "df['p1_flag'] = df['p1_flag'].astype(int)\n",
    "df['p5_flag'] = df['p5_flag'].astype(int)\n",
    "df['p10_flag'] = df['p10_flag'].astype(int)\n",
    "df['p90_flag'] = df['p90_flag'].astype(int)\n",
    "df['p95_flag'] = df['p95_flag'].astype(int)\n",
    "df['p99_flag'] = df['p99_flag'].astype(int)\n",
    "\n",
    "# Display the resulting DataFrame\n",
    "print(df)"
   ]
  },
  {
   "cell_type": "code",
   "execution_count": 27,
   "metadata": {},
   "outputs": [
    {
     "name": "stdout",
     "output_type": "stream",
     "text": [
      "                       p1_flag  p5_flag  p10_flag  p90_flag  p95_flag  \\\n",
      "station_name scenario                                                   \n",
      "1104150.0    rcp4p5        289      830      1125        96        38   \n",
      "             rcp8p5        702     1337      1712        37        14   \n",
      "1104200.0    rcp4p5         37      153       279       166        74   \n",
      "             rcp8p5        206      408       555        95        42   \n",
      "1104300.0    rcp4p5        164      754      1215         0         0   \n",
      "...                        ...      ...       ...       ...       ...   \n",
      "6987050.0    rcp8p5        261      630       904       493       278   \n",
      "6987100.0    rcp4p5         78      345       572       584       378   \n",
      "             rcp8p5        191      549       801       529       357   \n",
      "6987150.0    rcp4p5         56      307       509       547       316   \n",
      "             rcp8p5        129      490       724       497       300   \n",
      "\n",
      "                       p99_flag  \n",
      "station_name scenario            \n",
      "1104150.0    rcp4p5           7  \n",
      "             rcp8p5           0  \n",
      "1104200.0    rcp4p5          11  \n",
      "             rcp8p5           6  \n",
      "1104300.0    rcp4p5           0  \n",
      "...                         ...  \n",
      "6987050.0    rcp8p5         118  \n",
      "6987100.0    rcp4p5         118  \n",
      "             rcp8p5         113  \n",
      "6987150.0    rcp4p5          68  \n",
      "             rcp8p5          79  \n",
      "\n",
      "[21278 rows x 6 columns]\n"
     ]
    }
   ],
   "source": [
    "df_mid_end = df[(df['time_period'] == 'mid') | (df['time_period'] == 'end')]\n",
    "flag_counts_mid = df_mid_end.groupby(['station_name','scenario'])[['p1_flag', 'p5_flag', 'p10_flag', 'p90_flag', 'p95_flag', 'p99_flag']].sum()\n",
    "\n",
    "# Display the flag counts\n",
    "print(flag_counts_mid)\n",
    "flag_counts_mid.to_csv('flag_counts_mid_end.csv')\n",
    "#flag_counts_mid.to_parquet('file_name.parquet', engine='pyarrow')\n"
   ]
  }
 ],
 "metadata": {
  "kernelspec": {
   "display_name": "ams-workshop",
   "language": "python",
   "name": "python3"
  },
  "language_info": {
   "codemirror_mode": {
    "name": "ipython",
    "version": 3
   },
   "file_extension": ".py",
   "mimetype": "text/x-python",
   "name": "python",
   "nbconvert_exporter": "python",
   "pygments_lexer": "ipython3",
   "version": "3.9.18"
  }
 },
 "nbformat": 4,
 "nbformat_minor": 2
}
