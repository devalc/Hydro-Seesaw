{
 "cells": [
  {
   "cell_type": "code",
   "execution_count": 2,
   "metadata": {},
   "outputs": [],
   "source": [
    "import pandas as pd\n",
    "import matplotlib.pyplot as plt\n",
    "import random\n",
    "import parquet"
   ]
  },
  {
   "cell_type": "code",
   "execution_count": 9,
   "metadata": {},
   "outputs": [],
   "source": [
    "# Specify the path to the extracted Parquet file\n",
    "parquet_file = \"/Volumes/Personal/streamflow/grouped_median_discharge.parquet\"\n",
    "\n",
    "# Read the Parquet file into a DataFrame\n",
    "df = pd.read_parquet(parquet_file)\n"
   ]
  },
  {
   "cell_type": "code",
   "execution_count": 10,
   "metadata": {},
   "outputs": [
    {
     "data": {
      "text/html": [
       "<div>\n",
       "<style scoped>\n",
       "    .dataframe tbody tr th:only-of-type {\n",
       "        vertical-align: middle;\n",
       "    }\n",
       "\n",
       "    .dataframe tbody tr th {\n",
       "        vertical-align: top;\n",
       "    }\n",
       "\n",
       "    .dataframe thead th {\n",
       "        text-align: right;\n",
       "    }\n",
       "</style>\n",
       "<table border=\"1\" class=\"dataframe\">\n",
       "  <thead>\n",
       "    <tr style=\"text-align: right;\">\n",
       "      <th></th>\n",
       "      <th>time</th>\n",
       "      <th>station_name</th>\n",
       "      <th>scenario</th>\n",
       "      <th>discharge</th>\n",
       "    </tr>\n",
       "  </thead>\n",
       "  <tbody>\n",
       "    <tr>\n",
       "      <th>0</th>\n",
       "      <td>1976-01-07</td>\n",
       "      <td>1104150.0</td>\n",
       "      <td>hist</td>\n",
       "      <td>83.478806</td>\n",
       "    </tr>\n",
       "    <tr>\n",
       "      <th>1</th>\n",
       "      <td>1976-01-07</td>\n",
       "      <td>1104200.0</td>\n",
       "      <td>hist</td>\n",
       "      <td>0.680449</td>\n",
       "    </tr>\n",
       "    <tr>\n",
       "      <th>2</th>\n",
       "      <td>1976-01-07</td>\n",
       "      <td>1104300.0</td>\n",
       "      <td>hist</td>\n",
       "      <td>4.381658</td>\n",
       "    </tr>\n",
       "    <tr>\n",
       "      <th>3</th>\n",
       "      <td>1976-01-07</td>\n",
       "      <td>1104450.0</td>\n",
       "      <td>hist</td>\n",
       "      <td>NaN</td>\n",
       "    </tr>\n",
       "    <tr>\n",
       "      <th>4</th>\n",
       "      <td>1976-01-07</td>\n",
       "      <td>1104480.0</td>\n",
       "      <td>hist</td>\n",
       "      <td>0.244086</td>\n",
       "    </tr>\n",
       "  </tbody>\n",
       "</table>\n",
       "</div>"
      ],
      "text/plain": [
       "        time  station_name scenario  discharge\n",
       "0 1976-01-07     1104150.0     hist  83.478806\n",
       "1 1976-01-07     1104200.0     hist   0.680449\n",
       "2 1976-01-07     1104300.0     hist   4.381658\n",
       "3 1976-01-07     1104450.0     hist        NaN\n",
       "4 1976-01-07     1104480.0     hist   0.244086"
      ]
     },
     "execution_count": 10,
     "metadata": {},
     "output_type": "execute_result"
    }
   ],
   "source": [
    "df.head()\n",
    "#df.shape"
   ]
  },
  {
   "cell_type": "code",
   "execution_count": 11,
   "metadata": {},
   "outputs": [
    {
     "data": {
      "text/plain": [
       "(120614936, 4)"
      ]
     },
     "execution_count": 11,
     "metadata": {},
     "output_type": "execute_result"
    }
   ],
   "source": [
    "df = df.dropna()\n",
    "df.shape"
   ]
  },
  {
   "cell_type": "code",
   "execution_count": 13,
   "metadata": {},
   "outputs": [
    {
     "data": {
      "text/plain": [
       "99.05959245589865"
      ]
     },
     "execution_count": 13,
     "metadata": {},
     "output_type": "execute_result"
    }
   ],
   "source": [
    "(df.shape[0]/121759976)*100"
   ]
  },
  {
   "cell_type": "code",
   "execution_count": 14,
   "metadata": {},
   "outputs": [
    {
     "name": "stdout",
     "output_type": "stream",
     "text": [
      "                    p1        p5        p10         p90         p95  \\\n",
      "station_name                                                          \n",
      "1104150.0     2.598351  6.308822  11.348228  224.553796  280.981632   \n",
      "1104200.0     0.003896  0.026722   0.043520    1.659673    2.133056   \n",
      "1104300.0     0.000133  0.001142   0.005574    7.366641    9.939234   \n",
      "1104480.0     0.000000  0.000000   0.000000    0.280867    0.390582   \n",
      "1104500.0     0.052046  0.105169   0.158477    1.145553    1.427213   \n",
      "...                ...       ...        ...         ...         ...   \n",
      "6984800.0     0.025626  0.065388   0.072911   90.388947  122.973452   \n",
      "6986100.0     0.618985  1.391174   2.161176   18.560699   22.239927   \n",
      "6987050.0     1.820842  2.247439   2.561722   11.106482   13.143107   \n",
      "6987100.0     5.842051  8.441415  10.145994   34.617324   38.627123   \n",
      "6987150.0     1.113012  1.569021   1.845787    6.090517    6.922308   \n",
      "\n",
      "                     p99  \n",
      "station_name              \n",
      "1104150.0     395.200117  \n",
      "1104200.0       3.360957  \n",
      "1104300.0      16.728632  \n",
      "1104480.0       0.605555  \n",
      "1104500.0       2.158926  \n",
      "...                  ...  \n",
      "6984800.0     164.959299  \n",
      "6986100.0      28.599727  \n",
      "6987050.0      16.513420  \n",
      "6987100.0      47.572308  \n",
      "6987150.0       8.975490  \n",
      "\n",
      "[10647 rows x 6 columns]\n"
     ]
    }
   ],
   "source": [
    "df['time'] = pd.to_datetime(df['time'])\n",
    "\n",
    "# Filter the DataFrame where scenario is 'hist'\n",
    "filtered_df = df[df['scenario'] == 'hist']\n",
    "\n",
    "# Define the percentiles to calculate\n",
    "percentiles = [1, 5, 10, 90, 95, 99]\n",
    "\n",
    "percentile_df = filtered_df.groupby('station_name')['discharge'].quantile([p/100 for p in percentiles]).unstack()\n",
    "\n",
    "# Rename the columns for clarity\n",
    "percentile_df.columns = [f'p{int(p)}' for p in percentiles]\n",
    "\n",
    "# Merge the percentiles back into the original DataFrame\n",
    "\n",
    "print(percentile_df)"
   ]
  },
  {
   "cell_type": "code",
   "execution_count": 15,
   "metadata": {},
   "outputs": [],
   "source": [
    "df = df.merge(percentile_df, on='station_name', how='left')"
   ]
  },
  {
   "cell_type": "code",
   "execution_count": 16,
   "metadata": {},
   "outputs": [
    {
     "data": {
      "text/plain": [
       "<bound method NDFrame.head of                 time  station_name scenario  discharge        p1        p5  \\\n",
       "0         1976-01-07     1104150.0     hist  83.478806  2.598351  6.308822   \n",
       "1         1976-01-07     1104200.0     hist   0.680449  0.003896  0.026722   \n",
       "2         1976-01-07     1104300.0     hist   4.381658  0.000133  0.001142   \n",
       "3         1976-01-07     1104480.0     hist   0.244086  0.000000  0.000000   \n",
       "4         1976-01-07     1104500.0     hist   0.671000  0.052046  0.105169   \n",
       "...              ...           ...      ...        ...       ...       ...   \n",
       "120614931 2099-12-30     6987050.0   rcp8p5   7.912493  1.820842  2.247439   \n",
       "120614932 2099-12-30     6987100.0   rcp4p5  50.412224  5.842051  8.441415   \n",
       "120614933 2099-12-30     6987100.0   rcp8p5  26.211447  5.842051  8.441415   \n",
       "120614934 2099-12-30     6987150.0   rcp4p5   8.691892  1.113012  1.569021   \n",
       "120614935 2099-12-30     6987150.0   rcp8p5   4.085582  1.113012  1.569021   \n",
       "\n",
       "                 p10         p90         p95         p99  \n",
       "0          11.348228  224.553796  280.981632  395.200117  \n",
       "1           0.043520    1.659673    2.133056    3.360957  \n",
       "2           0.005574    7.366641    9.939234   16.728632  \n",
       "3           0.000000    0.280867    0.390582    0.605555  \n",
       "4           0.158477    1.145553    1.427213    2.158926  \n",
       "...              ...         ...         ...         ...  \n",
       "120614931   2.561722   11.106482   13.143107   16.513420  \n",
       "120614932  10.145994   34.617324   38.627123   47.572308  \n",
       "120614933  10.145994   34.617324   38.627123   47.572308  \n",
       "120614934   1.845787    6.090517    6.922308    8.975490  \n",
       "120614935   1.845787    6.090517    6.922308    8.975490  \n",
       "\n",
       "[120614936 rows x 10 columns]>"
      ]
     },
     "execution_count": 16,
     "metadata": {},
     "output_type": "execute_result"
    }
   ],
   "source": [
    "df.head"
   ]
  },
  {
   "cell_type": "code",
   "execution_count": 17,
   "metadata": {},
   "outputs": [
    {
     "name": "stdout",
     "output_type": "stream",
     "text": [
      "                time  station_name scenario  discharge        p1        p5  \\\n",
      "0         1976-01-07     1104150.0     hist  83.478806  2.598351  6.308822   \n",
      "1         1976-01-07     1104200.0     hist   0.680449  0.003896  0.026722   \n",
      "2         1976-01-07     1104300.0     hist   4.381658  0.000133  0.001142   \n",
      "3         1976-01-07     1104480.0     hist   0.244086  0.000000  0.000000   \n",
      "4         1976-01-07     1104500.0     hist   0.671000  0.052046  0.105169   \n",
      "...              ...           ...      ...        ...       ...       ...   \n",
      "120614931 2099-12-30     6987050.0   rcp8p5   7.912493  1.820842  2.247439   \n",
      "120614932 2099-12-30     6987100.0   rcp4p5  50.412224  5.842051  8.441415   \n",
      "120614933 2099-12-30     6987100.0   rcp8p5  26.211447  5.842051  8.441415   \n",
      "120614934 2099-12-30     6987150.0   rcp4p5   8.691892  1.113012  1.569021   \n",
      "120614935 2099-12-30     6987150.0   rcp8p5   4.085582  1.113012  1.569021   \n",
      "\n",
      "                 p10         p90         p95         p99  p1_flag  p5_flag  \\\n",
      "0          11.348228  224.553796  280.981632  395.200117        0        0   \n",
      "1           0.043520    1.659673    2.133056    3.360957        0        0   \n",
      "2           0.005574    7.366641    9.939234   16.728632        0        0   \n",
      "3           0.000000    0.280867    0.390582    0.605555        0        0   \n",
      "4           0.158477    1.145553    1.427213    2.158926        0        0   \n",
      "...              ...         ...         ...         ...      ...      ...   \n",
      "120614931   2.561722   11.106482   13.143107   16.513420        0        0   \n",
      "120614932  10.145994   34.617324   38.627123   47.572308        0        0   \n",
      "120614933  10.145994   34.617324   38.627123   47.572308        0        0   \n",
      "120614934   1.845787    6.090517    6.922308    8.975490        0        0   \n",
      "120614935   1.845787    6.090517    6.922308    8.975490        0        0   \n",
      "\n",
      "           p10_flag  p90_flag  p95_flag  p99_flag  \n",
      "0                 0         0         0         0  \n",
      "1                 0         0         0         0  \n",
      "2                 0         0         0         0  \n",
      "3                 0         0         0         0  \n",
      "4                 0         0         0         0  \n",
      "...             ...       ...       ...       ...  \n",
      "120614931         0         0         0         0  \n",
      "120614932         0         1         1         1  \n",
      "120614933         0         0         0         0  \n",
      "120614934         0         1         1         0  \n",
      "120614935         0         0         0         0  \n",
      "\n",
      "[120614936 rows x 16 columns]\n"
     ]
    }
   ],
   "source": [
    "# Create new columns based on the comparison criteria\n",
    "df['p1_flag'] = df['discharge'] < df['p1']\n",
    "df['p5_flag'] = df['discharge'] < df['p5']\n",
    "df['p10_flag'] = df['discharge'] < df['p10']\n",
    "df['p90_flag'] = df['discharge'] > df['p90']\n",
    "df['p95_flag'] = df['discharge'] > df['p95']\n",
    "df['p99_flag'] = df['discharge'] > df['p99']\n",
    "\n",
    "# Convert boolean flags to integers (1 or 0)\n",
    "df['p1_flag'] = df['p1_flag'].astype(int)\n",
    "df['p5_flag'] = df['p5_flag'].astype(int)\n",
    "df['p10_flag'] = df['p10_flag'].astype(int)\n",
    "df['p90_flag'] = df['p90_flag'].astype(int)\n",
    "df['p95_flag'] = df['p95_flag'].astype(int)\n",
    "df['p99_flag'] = df['p99_flag'].astype(int)\n",
    "\n",
    "# Display the resulting DataFrame\n",
    "print(df)"
   ]
  },
  {
   "cell_type": "code",
   "execution_count": 18,
   "metadata": {},
   "outputs": [
    {
     "name": "stdout",
     "output_type": "stream",
     "text": [
      "              p1_flag  p5_flag  p10_flag  p90_flag  p95_flag  p99_flag\n",
      "station_name                                                          \n",
      "1104150.0        1079     2445      3321       396       175        32\n",
      "1104200.0         271      673      1051       537       255        46\n",
      "1104300.0         639     2041      3306       156        78        16\n",
      "1104480.0           0        0         0       156        78        16\n",
      "1104500.0        2257     3186      3888       389       146        20\n",
      "...               ...      ...       ...       ...       ...       ...\n",
      "6984800.0         149      309       415       963       471       110\n",
      "6986100.0          27      166       363      1071       516        73\n",
      "6987050.0         359     1104      1785      1409       801       289\n",
      "6987100.0         309     1088      1711      1483       945       293\n",
      "6987150.0         221      990      1563      1409       824       197\n",
      "\n",
      "[10647 rows x 6 columns]\n"
     ]
    }
   ],
   "source": [
    "flag_counts = df.groupby('station_name')[['p1_flag', 'p5_flag', 'p10_flag', 'p90_flag', 'p95_flag', 'p99_flag']].sum()\n",
    "\n",
    "# Display the flag counts\n",
    "print(flag_counts)"
   ]
  }
 ],
 "metadata": {
  "kernelspec": {
   "display_name": "ams-workshop",
   "language": "python",
   "name": "python3"
  },
  "language_info": {
   "codemirror_mode": {
    "name": "ipython",
    "version": 3
   },
   "file_extension": ".py",
   "mimetype": "text/x-python",
   "name": "python",
   "nbconvert_exporter": "python",
   "pygments_lexer": "ipython3",
   "version": "3.9.18"
  }
 },
 "nbformat": 4,
 "nbformat_minor": 2
}
